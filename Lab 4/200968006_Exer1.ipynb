{
 "cells": [
  {
   "cell_type": "code",
   "execution_count": 1,
   "id": "33903cb5",
   "metadata": {},
   "outputs": [],
   "source": [
    "import pandas as pd\n",
    "import numpy as np"
   ]
  },
  {
   "cell_type": "code",
   "execution_count": 2,
   "id": "d0da2cdc",
   "metadata": {},
   "outputs": [
    {
     "data": {
      "text/html": [
       "<div>\n",
       "<style scoped>\n",
       "    .dataframe tbody tr th:only-of-type {\n",
       "        vertical-align: middle;\n",
       "    }\n",
       "\n",
       "    .dataframe tbody tr th {\n",
       "        vertical-align: top;\n",
       "    }\n",
       "\n",
       "    .dataframe thead th {\n",
       "        text-align: right;\n",
       "    }\n",
       "</style>\n",
       "<table border=\"1\" class=\"dataframe\">\n",
       "  <thead>\n",
       "    <tr style=\"text-align: right;\">\n",
       "      <th></th>\n",
       "      <th>checkin_acc</th>\n",
       "      <th>duration</th>\n",
       "      <th>credit_history</th>\n",
       "      <th>amount</th>\n",
       "      <th>savings_acc</th>\n",
       "      <th>present_emp_since</th>\n",
       "      <th>inst_rate</th>\n",
       "      <th>personal_status</th>\n",
       "      <th>residing_since</th>\n",
       "      <th>age</th>\n",
       "      <th>inst_plans</th>\n",
       "      <th>num_credits</th>\n",
       "      <th>job</th>\n",
       "      <th>status</th>\n",
       "    </tr>\n",
       "  </thead>\n",
       "  <tbody>\n",
       "    <tr>\n",
       "      <th>0</th>\n",
       "      <td>A11</td>\n",
       "      <td>6</td>\n",
       "      <td>A34</td>\n",
       "      <td>1169</td>\n",
       "      <td>A65</td>\n",
       "      <td>A75</td>\n",
       "      <td>4</td>\n",
       "      <td>A93</td>\n",
       "      <td>4</td>\n",
       "      <td>67</td>\n",
       "      <td>A143</td>\n",
       "      <td>2</td>\n",
       "      <td>A173</td>\n",
       "      <td>0</td>\n",
       "    </tr>\n",
       "    <tr>\n",
       "      <th>1</th>\n",
       "      <td>A12</td>\n",
       "      <td>48</td>\n",
       "      <td>A32</td>\n",
       "      <td>5951</td>\n",
       "      <td>A61</td>\n",
       "      <td>A73</td>\n",
       "      <td>2</td>\n",
       "      <td>A92</td>\n",
       "      <td>2</td>\n",
       "      <td>22</td>\n",
       "      <td>A143</td>\n",
       "      <td>1</td>\n",
       "      <td>A173</td>\n",
       "      <td>1</td>\n",
       "    </tr>\n",
       "    <tr>\n",
       "      <th>2</th>\n",
       "      <td>A14</td>\n",
       "      <td>12</td>\n",
       "      <td>A34</td>\n",
       "      <td>2096</td>\n",
       "      <td>A61</td>\n",
       "      <td>A74</td>\n",
       "      <td>2</td>\n",
       "      <td>A93</td>\n",
       "      <td>3</td>\n",
       "      <td>49</td>\n",
       "      <td>A143</td>\n",
       "      <td>1</td>\n",
       "      <td>A172</td>\n",
       "      <td>0</td>\n",
       "    </tr>\n",
       "    <tr>\n",
       "      <th>3</th>\n",
       "      <td>A11</td>\n",
       "      <td>42</td>\n",
       "      <td>A32</td>\n",
       "      <td>7882</td>\n",
       "      <td>A61</td>\n",
       "      <td>A74</td>\n",
       "      <td>2</td>\n",
       "      <td>A93</td>\n",
       "      <td>4</td>\n",
       "      <td>45</td>\n",
       "      <td>A143</td>\n",
       "      <td>1</td>\n",
       "      <td>A173</td>\n",
       "      <td>0</td>\n",
       "    </tr>\n",
       "    <tr>\n",
       "      <th>4</th>\n",
       "      <td>A11</td>\n",
       "      <td>24</td>\n",
       "      <td>A33</td>\n",
       "      <td>4870</td>\n",
       "      <td>A61</td>\n",
       "      <td>A73</td>\n",
       "      <td>3</td>\n",
       "      <td>A93</td>\n",
       "      <td>4</td>\n",
       "      <td>53</td>\n",
       "      <td>A143</td>\n",
       "      <td>2</td>\n",
       "      <td>A173</td>\n",
       "      <td>1</td>\n",
       "    </tr>\n",
       "  </tbody>\n",
       "</table>\n",
       "</div>"
      ],
      "text/plain": [
       "  checkin_acc  duration credit_history  amount savings_acc present_emp_since  \\\n",
       "0         A11         6            A34    1169         A65               A75   \n",
       "1         A12        48            A32    5951         A61               A73   \n",
       "2         A14        12            A34    2096         A61               A74   \n",
       "3         A11        42            A32    7882         A61               A74   \n",
       "4         A11        24            A33    4870         A61               A73   \n",
       "\n",
       "   inst_rate personal_status  residing_since  age inst_plans  num_credits  \\\n",
       "0          4             A93               4   67       A143            2   \n",
       "1          2             A92               2   22       A143            1   \n",
       "2          2             A93               3   49       A143            1   \n",
       "3          2             A93               4   45       A143            1   \n",
       "4          3             A93               4   53       A143            2   \n",
       "\n",
       "    job  status  \n",
       "0  A173       0  \n",
       "1  A173       1  \n",
       "2  A172       0  \n",
       "3  A173       0  \n",
       "4  A173       1  "
      ]
     },
     "execution_count": 2,
     "metadata": {},
     "output_type": "execute_result"
    }
   ],
   "source": [
    "credit = pd.read_csv('German Credit Data.csv')\n",
    "credit.head()"
   ]
  },
  {
   "cell_type": "code",
   "execution_count": 3,
   "id": "96fe68fb",
   "metadata": {},
   "outputs": [
    {
     "data": {
      "text/plain": [
       "(1000, 14)"
      ]
     },
     "execution_count": 3,
     "metadata": {},
     "output_type": "execute_result"
    }
   ],
   "source": [
    "credit.shape"
   ]
  },
  {
   "cell_type": "code",
   "execution_count": 4,
   "id": "4d74bcd0",
   "metadata": {},
   "outputs": [
    {
     "data": {
      "text/plain": [
       "checkin_acc          0\n",
       "duration             0\n",
       "credit_history       0\n",
       "amount               0\n",
       "savings_acc          0\n",
       "present_emp_since    0\n",
       "inst_rate            0\n",
       "personal_status      0\n",
       "residing_since       0\n",
       "age                  0\n",
       "inst_plans           0\n",
       "num_credits          0\n",
       "job                  0\n",
       "status               0\n",
       "dtype: int64"
      ]
     },
     "execution_count": 4,
     "metadata": {},
     "output_type": "execute_result"
    }
   ],
   "source": [
    "credit.isnull().sum()"
   ]
  },
  {
   "cell_type": "code",
   "execution_count": 5,
   "id": "4fe07422",
   "metadata": {},
   "outputs": [
    {
     "name": "stdout",
     "output_type": "stream",
     "text": [
      "['A11' 'A12' 'A14' 'A13']\n",
      "['A34' 'A32' 'A33' 'A30' 'A31']\n",
      "['A65' 'A61' 'A63' 'A64' 'A62']\n",
      "['A75' 'A73' 'A74' 'A71' 'A72']\n",
      "['A93' 'A92' 'A91' 'A94']\n",
      "['A143' 'A141' 'A142']\n",
      "['A173' 'A172' 'A174' 'A171']\n"
     ]
    }
   ],
   "source": [
    "for col in credit.select_dtypes('object').columns:\n",
    "    print(credit[col].unique())"
   ]
  },
  {
   "cell_type": "code",
   "execution_count": 6,
   "id": "709d640a",
   "metadata": {},
   "outputs": [],
   "source": [
    "y = credit['status']"
   ]
  },
  {
   "cell_type": "code",
   "execution_count": 7,
   "id": "95f2fa82",
   "metadata": {},
   "outputs": [],
   "source": [
    "from sklearn.preprocessing import OneHotEncoder"
   ]
  },
  {
   "cell_type": "markdown",
   "id": "fa870d93",
   "metadata": {},
   "source": [
    "We will use OneHotEncoder to encode all the categorical columns"
   ]
  },
  {
   "cell_type": "code",
   "execution_count": 8,
   "id": "97fd9945",
   "metadata": {},
   "outputs": [],
   "source": [
    "encoder = OneHotEncoder()"
   ]
  },
  {
   "cell_type": "code",
   "execution_count": 9,
   "id": "a69360d9",
   "metadata": {},
   "outputs": [
    {
     "data": {
      "text/html": [
       "<div>\n",
       "<style scoped>\n",
       "    .dataframe tbody tr th:only-of-type {\n",
       "        vertical-align: middle;\n",
       "    }\n",
       "\n",
       "    .dataframe tbody tr th {\n",
       "        vertical-align: top;\n",
       "    }\n",
       "\n",
       "    .dataframe thead th {\n",
       "        text-align: right;\n",
       "    }\n",
       "</style>\n",
       "<table border=\"1\" class=\"dataframe\">\n",
       "  <thead>\n",
       "    <tr style=\"text-align: right;\">\n",
       "      <th></th>\n",
       "      <th>duration</th>\n",
       "      <th>amount</th>\n",
       "      <th>inst_rate</th>\n",
       "      <th>residing_since</th>\n",
       "      <th>age</th>\n",
       "      <th>num_credits</th>\n",
       "    </tr>\n",
       "  </thead>\n",
       "  <tbody>\n",
       "    <tr>\n",
       "      <th>0</th>\n",
       "      <td>6</td>\n",
       "      <td>1169</td>\n",
       "      <td>4</td>\n",
       "      <td>4</td>\n",
       "      <td>67</td>\n",
       "      <td>2</td>\n",
       "    </tr>\n",
       "    <tr>\n",
       "      <th>1</th>\n",
       "      <td>48</td>\n",
       "      <td>5951</td>\n",
       "      <td>2</td>\n",
       "      <td>2</td>\n",
       "      <td>22</td>\n",
       "      <td>1</td>\n",
       "    </tr>\n",
       "    <tr>\n",
       "      <th>2</th>\n",
       "      <td>12</td>\n",
       "      <td>2096</td>\n",
       "      <td>2</td>\n",
       "      <td>3</td>\n",
       "      <td>49</td>\n",
       "      <td>1</td>\n",
       "    </tr>\n",
       "    <tr>\n",
       "      <th>3</th>\n",
       "      <td>42</td>\n",
       "      <td>7882</td>\n",
       "      <td>2</td>\n",
       "      <td>4</td>\n",
       "      <td>45</td>\n",
       "      <td>1</td>\n",
       "    </tr>\n",
       "    <tr>\n",
       "      <th>4</th>\n",
       "      <td>24</td>\n",
       "      <td>4870</td>\n",
       "      <td>3</td>\n",
       "      <td>4</td>\n",
       "      <td>53</td>\n",
       "      <td>2</td>\n",
       "    </tr>\n",
       "  </tbody>\n",
       "</table>\n",
       "</div>"
      ],
      "text/plain": [
       "   duration  amount  inst_rate  residing_since  age  num_credits\n",
       "0         6    1169          4               4   67            2\n",
       "1        48    5951          2               2   22            1\n",
       "2        12    2096          2               3   49            1\n",
       "3        42    7882          2               4   45            1\n",
       "4        24    4870          3               4   53            2"
      ]
     },
     "execution_count": 9,
     "metadata": {},
     "output_type": "execute_result"
    }
   ],
   "source": [
    "final_df = credit.select_dtypes('int64')\n",
    "final_df = final_df.drop(['status'], axis = 1)\n",
    "final_df.head()"
   ]
  },
  {
   "cell_type": "code",
   "execution_count": 10,
   "id": "d846cdb0",
   "metadata": {},
   "outputs": [],
   "source": [
    "for col in list(credit.select_dtypes('object').columns):\n",
    "    df = pd.DataFrame(encoder.fit_transform(credit[[col]]).toarray())\n",
    "    final_df = pd.merge(final_df, df, left_index = True, right_index = True)"
   ]
  },
  {
   "cell_type": "code",
   "execution_count": 11,
   "id": "d8c8aedf",
   "metadata": {},
   "outputs": [
    {
     "data": {
      "text/html": [
       "<div>\n",
       "<style scoped>\n",
       "    .dataframe tbody tr th:only-of-type {\n",
       "        vertical-align: middle;\n",
       "    }\n",
       "\n",
       "    .dataframe tbody tr th {\n",
       "        vertical-align: top;\n",
       "    }\n",
       "\n",
       "    .dataframe thead th {\n",
       "        text-align: right;\n",
       "    }\n",
       "</style>\n",
       "<table border=\"1\" class=\"dataframe\">\n",
       "  <thead>\n",
       "    <tr style=\"text-align: right;\">\n",
       "      <th></th>\n",
       "      <th>duration</th>\n",
       "      <th>amount</th>\n",
       "      <th>inst_rate</th>\n",
       "      <th>residing_since</th>\n",
       "      <th>age</th>\n",
       "      <th>num_credits</th>\n",
       "      <th>0_x</th>\n",
       "      <th>1_x</th>\n",
       "      <th>2_x</th>\n",
       "      <th>3_x</th>\n",
       "      <th>...</th>\n",
       "      <th>1_x</th>\n",
       "      <th>2_x</th>\n",
       "      <th>3_x</th>\n",
       "      <th>0_y</th>\n",
       "      <th>1_y</th>\n",
       "      <th>2_y</th>\n",
       "      <th>0</th>\n",
       "      <th>1</th>\n",
       "      <th>2</th>\n",
       "      <th>3_y</th>\n",
       "    </tr>\n",
       "  </thead>\n",
       "  <tbody>\n",
       "    <tr>\n",
       "      <th>0</th>\n",
       "      <td>6</td>\n",
       "      <td>1169</td>\n",
       "      <td>4</td>\n",
       "      <td>4</td>\n",
       "      <td>67</td>\n",
       "      <td>2</td>\n",
       "      <td>1.0</td>\n",
       "      <td>0.0</td>\n",
       "      <td>0.0</td>\n",
       "      <td>0.0</td>\n",
       "      <td>...</td>\n",
       "      <td>0.0</td>\n",
       "      <td>1.0</td>\n",
       "      <td>0.0</td>\n",
       "      <td>0.0</td>\n",
       "      <td>0.0</td>\n",
       "      <td>1.0</td>\n",
       "      <td>0.0</td>\n",
       "      <td>0.0</td>\n",
       "      <td>1.0</td>\n",
       "      <td>0.0</td>\n",
       "    </tr>\n",
       "    <tr>\n",
       "      <th>1</th>\n",
       "      <td>48</td>\n",
       "      <td>5951</td>\n",
       "      <td>2</td>\n",
       "      <td>2</td>\n",
       "      <td>22</td>\n",
       "      <td>1</td>\n",
       "      <td>0.0</td>\n",
       "      <td>1.0</td>\n",
       "      <td>0.0</td>\n",
       "      <td>0.0</td>\n",
       "      <td>...</td>\n",
       "      <td>1.0</td>\n",
       "      <td>0.0</td>\n",
       "      <td>0.0</td>\n",
       "      <td>0.0</td>\n",
       "      <td>0.0</td>\n",
       "      <td>1.0</td>\n",
       "      <td>0.0</td>\n",
       "      <td>0.0</td>\n",
       "      <td>1.0</td>\n",
       "      <td>0.0</td>\n",
       "    </tr>\n",
       "    <tr>\n",
       "      <th>2</th>\n",
       "      <td>12</td>\n",
       "      <td>2096</td>\n",
       "      <td>2</td>\n",
       "      <td>3</td>\n",
       "      <td>49</td>\n",
       "      <td>1</td>\n",
       "      <td>0.0</td>\n",
       "      <td>0.0</td>\n",
       "      <td>0.0</td>\n",
       "      <td>1.0</td>\n",
       "      <td>...</td>\n",
       "      <td>0.0</td>\n",
       "      <td>1.0</td>\n",
       "      <td>0.0</td>\n",
       "      <td>0.0</td>\n",
       "      <td>0.0</td>\n",
       "      <td>1.0</td>\n",
       "      <td>0.0</td>\n",
       "      <td>1.0</td>\n",
       "      <td>0.0</td>\n",
       "      <td>0.0</td>\n",
       "    </tr>\n",
       "    <tr>\n",
       "      <th>3</th>\n",
       "      <td>42</td>\n",
       "      <td>7882</td>\n",
       "      <td>2</td>\n",
       "      <td>4</td>\n",
       "      <td>45</td>\n",
       "      <td>1</td>\n",
       "      <td>1.0</td>\n",
       "      <td>0.0</td>\n",
       "      <td>0.0</td>\n",
       "      <td>0.0</td>\n",
       "      <td>...</td>\n",
       "      <td>0.0</td>\n",
       "      <td>1.0</td>\n",
       "      <td>0.0</td>\n",
       "      <td>0.0</td>\n",
       "      <td>0.0</td>\n",
       "      <td>1.0</td>\n",
       "      <td>0.0</td>\n",
       "      <td>0.0</td>\n",
       "      <td>1.0</td>\n",
       "      <td>0.0</td>\n",
       "    </tr>\n",
       "    <tr>\n",
       "      <th>4</th>\n",
       "      <td>24</td>\n",
       "      <td>4870</td>\n",
       "      <td>3</td>\n",
       "      <td>4</td>\n",
       "      <td>53</td>\n",
       "      <td>2</td>\n",
       "      <td>1.0</td>\n",
       "      <td>0.0</td>\n",
       "      <td>0.0</td>\n",
       "      <td>0.0</td>\n",
       "      <td>...</td>\n",
       "      <td>0.0</td>\n",
       "      <td>1.0</td>\n",
       "      <td>0.0</td>\n",
       "      <td>0.0</td>\n",
       "      <td>0.0</td>\n",
       "      <td>1.0</td>\n",
       "      <td>0.0</td>\n",
       "      <td>0.0</td>\n",
       "      <td>1.0</td>\n",
       "      <td>0.0</td>\n",
       "    </tr>\n",
       "  </tbody>\n",
       "</table>\n",
       "<p>5 rows × 36 columns</p>\n",
       "</div>"
      ],
      "text/plain": [
       "   duration  amount  inst_rate  residing_since  age  num_credits  0_x  1_x  \\\n",
       "0         6    1169          4               4   67            2  1.0  0.0   \n",
       "1        48    5951          2               2   22            1  0.0  1.0   \n",
       "2        12    2096          2               3   49            1  0.0  0.0   \n",
       "3        42    7882          2               4   45            1  1.0  0.0   \n",
       "4        24    4870          3               4   53            2  1.0  0.0   \n",
       "\n",
       "   2_x  3_x  ...  1_x  2_x  3_x  0_y  1_y  2_y    0    1    2  3_y  \n",
       "0  0.0  0.0  ...  0.0  1.0  0.0  0.0  0.0  1.0  0.0  0.0  1.0  0.0  \n",
       "1  0.0  0.0  ...  1.0  0.0  0.0  0.0  0.0  1.0  0.0  0.0  1.0  0.0  \n",
       "2  0.0  1.0  ...  0.0  1.0  0.0  0.0  0.0  1.0  0.0  1.0  0.0  0.0  \n",
       "3  0.0  0.0  ...  0.0  1.0  0.0  0.0  0.0  1.0  0.0  0.0  1.0  0.0  \n",
       "4  0.0  0.0  ...  0.0  1.0  0.0  0.0  0.0  1.0  0.0  0.0  1.0  0.0  \n",
       "\n",
       "[5 rows x 36 columns]"
      ]
     },
     "execution_count": 11,
     "metadata": {},
     "output_type": "execute_result"
    }
   ],
   "source": [
    "final_df.head()"
   ]
  },
  {
   "cell_type": "code",
   "execution_count": 12,
   "id": "8b5e316a",
   "metadata": {},
   "outputs": [
    {
     "data": {
      "text/html": [
       "<div>\n",
       "<style scoped>\n",
       "    .dataframe tbody tr th:only-of-type {\n",
       "        vertical-align: middle;\n",
       "    }\n",
       "\n",
       "    .dataframe tbody tr th {\n",
       "        vertical-align: top;\n",
       "    }\n",
       "\n",
       "    .dataframe thead th {\n",
       "        text-align: right;\n",
       "    }\n",
       "</style>\n",
       "<table border=\"1\" class=\"dataframe\">\n",
       "  <thead>\n",
       "    <tr style=\"text-align: right;\">\n",
       "      <th></th>\n",
       "      <th>duration</th>\n",
       "      <th>amount</th>\n",
       "      <th>inst_rate</th>\n",
       "      <th>residing_since</th>\n",
       "      <th>age</th>\n",
       "      <th>num_credits</th>\n",
       "      <th>checkin_acc_A11</th>\n",
       "      <th>checkin_acc_A12</th>\n",
       "      <th>checkin_acc_A13</th>\n",
       "      <th>checkin_acc_A14</th>\n",
       "      <th>...</th>\n",
       "      <th>personal_status_A92</th>\n",
       "      <th>personal_status_A93</th>\n",
       "      <th>personal_status_A94</th>\n",
       "      <th>inst_plans_A141</th>\n",
       "      <th>inst_plans_A142</th>\n",
       "      <th>inst_plans_A143</th>\n",
       "      <th>job_A171</th>\n",
       "      <th>job_A172</th>\n",
       "      <th>job_A173</th>\n",
       "      <th>job_A174</th>\n",
       "    </tr>\n",
       "  </thead>\n",
       "  <tbody>\n",
       "    <tr>\n",
       "      <th>0</th>\n",
       "      <td>6</td>\n",
       "      <td>1169</td>\n",
       "      <td>4</td>\n",
       "      <td>4</td>\n",
       "      <td>67</td>\n",
       "      <td>2</td>\n",
       "      <td>1.0</td>\n",
       "      <td>0.0</td>\n",
       "      <td>0.0</td>\n",
       "      <td>0.0</td>\n",
       "      <td>...</td>\n",
       "      <td>0.0</td>\n",
       "      <td>1.0</td>\n",
       "      <td>0.0</td>\n",
       "      <td>0.0</td>\n",
       "      <td>0.0</td>\n",
       "      <td>1.0</td>\n",
       "      <td>0.0</td>\n",
       "      <td>0.0</td>\n",
       "      <td>1.0</td>\n",
       "      <td>0.0</td>\n",
       "    </tr>\n",
       "    <tr>\n",
       "      <th>1</th>\n",
       "      <td>48</td>\n",
       "      <td>5951</td>\n",
       "      <td>2</td>\n",
       "      <td>2</td>\n",
       "      <td>22</td>\n",
       "      <td>1</td>\n",
       "      <td>0.0</td>\n",
       "      <td>1.0</td>\n",
       "      <td>0.0</td>\n",
       "      <td>0.0</td>\n",
       "      <td>...</td>\n",
       "      <td>1.0</td>\n",
       "      <td>0.0</td>\n",
       "      <td>0.0</td>\n",
       "      <td>0.0</td>\n",
       "      <td>0.0</td>\n",
       "      <td>1.0</td>\n",
       "      <td>0.0</td>\n",
       "      <td>0.0</td>\n",
       "      <td>1.0</td>\n",
       "      <td>0.0</td>\n",
       "    </tr>\n",
       "    <tr>\n",
       "      <th>2</th>\n",
       "      <td>12</td>\n",
       "      <td>2096</td>\n",
       "      <td>2</td>\n",
       "      <td>3</td>\n",
       "      <td>49</td>\n",
       "      <td>1</td>\n",
       "      <td>0.0</td>\n",
       "      <td>0.0</td>\n",
       "      <td>0.0</td>\n",
       "      <td>1.0</td>\n",
       "      <td>...</td>\n",
       "      <td>0.0</td>\n",
       "      <td>1.0</td>\n",
       "      <td>0.0</td>\n",
       "      <td>0.0</td>\n",
       "      <td>0.0</td>\n",
       "      <td>1.0</td>\n",
       "      <td>0.0</td>\n",
       "      <td>1.0</td>\n",
       "      <td>0.0</td>\n",
       "      <td>0.0</td>\n",
       "    </tr>\n",
       "    <tr>\n",
       "      <th>3</th>\n",
       "      <td>42</td>\n",
       "      <td>7882</td>\n",
       "      <td>2</td>\n",
       "      <td>4</td>\n",
       "      <td>45</td>\n",
       "      <td>1</td>\n",
       "      <td>1.0</td>\n",
       "      <td>0.0</td>\n",
       "      <td>0.0</td>\n",
       "      <td>0.0</td>\n",
       "      <td>...</td>\n",
       "      <td>0.0</td>\n",
       "      <td>1.0</td>\n",
       "      <td>0.0</td>\n",
       "      <td>0.0</td>\n",
       "      <td>0.0</td>\n",
       "      <td>1.0</td>\n",
       "      <td>0.0</td>\n",
       "      <td>0.0</td>\n",
       "      <td>1.0</td>\n",
       "      <td>0.0</td>\n",
       "    </tr>\n",
       "    <tr>\n",
       "      <th>4</th>\n",
       "      <td>24</td>\n",
       "      <td>4870</td>\n",
       "      <td>3</td>\n",
       "      <td>4</td>\n",
       "      <td>53</td>\n",
       "      <td>2</td>\n",
       "      <td>1.0</td>\n",
       "      <td>0.0</td>\n",
       "      <td>0.0</td>\n",
       "      <td>0.0</td>\n",
       "      <td>...</td>\n",
       "      <td>0.0</td>\n",
       "      <td>1.0</td>\n",
       "      <td>0.0</td>\n",
       "      <td>0.0</td>\n",
       "      <td>0.0</td>\n",
       "      <td>1.0</td>\n",
       "      <td>0.0</td>\n",
       "      <td>0.0</td>\n",
       "      <td>1.0</td>\n",
       "      <td>0.0</td>\n",
       "    </tr>\n",
       "  </tbody>\n",
       "</table>\n",
       "<p>5 rows × 36 columns</p>\n",
       "</div>"
      ],
      "text/plain": [
       "   duration  amount  inst_rate  residing_since  age  num_credits  \\\n",
       "0         6    1169          4               4   67            2   \n",
       "1        48    5951          2               2   22            1   \n",
       "2        12    2096          2               3   49            1   \n",
       "3        42    7882          2               4   45            1   \n",
       "4        24    4870          3               4   53            2   \n",
       "\n",
       "   checkin_acc_A11  checkin_acc_A12  checkin_acc_A13  checkin_acc_A14  ...  \\\n",
       "0              1.0              0.0              0.0              0.0  ...   \n",
       "1              0.0              1.0              0.0              0.0  ...   \n",
       "2              0.0              0.0              0.0              1.0  ...   \n",
       "3              1.0              0.0              0.0              0.0  ...   \n",
       "4              1.0              0.0              0.0              0.0  ...   \n",
       "\n",
       "   personal_status_A92  personal_status_A93  personal_status_A94  \\\n",
       "0                  0.0                  1.0                  0.0   \n",
       "1                  1.0                  0.0                  0.0   \n",
       "2                  0.0                  1.0                  0.0   \n",
       "3                  0.0                  1.0                  0.0   \n",
       "4                  0.0                  1.0                  0.0   \n",
       "\n",
       "   inst_plans_A141  inst_plans_A142  inst_plans_A143  job_A171  job_A172  \\\n",
       "0              0.0              0.0              1.0       0.0       0.0   \n",
       "1              0.0              0.0              1.0       0.0       0.0   \n",
       "2              0.0              0.0              1.0       0.0       1.0   \n",
       "3              0.0              0.0              1.0       0.0       0.0   \n",
       "4              0.0              0.0              1.0       0.0       0.0   \n",
       "\n",
       "   job_A173  job_A174  \n",
       "0       1.0       0.0  \n",
       "1       1.0       0.0  \n",
       "2       0.0       0.0  \n",
       "3       1.0       0.0  \n",
       "4       1.0       0.0  \n",
       "\n",
       "[5 rows x 36 columns]"
      ]
     },
     "execution_count": 12,
     "metadata": {},
     "output_type": "execute_result"
    }
   ],
   "source": [
    "result = pd.get_dummies(credit)\n",
    "cols = list(result.columns)\n",
    "cols.remove('status')\n",
    "final_df.columns = cols\n",
    "final_df.head()"
   ]
  },
  {
   "cell_type": "code",
   "execution_count": 13,
   "id": "a01e7df3",
   "metadata": {},
   "outputs": [],
   "source": [
    "from sklearn.model_selection import train_test_split\n",
    "from sklearn.tree import DecisionTreeClassifier\n",
    "from sklearn.model_selection import GridSearchCV\n",
    "from sklearn import metrics\n",
    "from sklearn.tree import plot_tree"
   ]
  },
  {
   "cell_type": "code",
   "execution_count": 14,
   "id": "4aa052ad",
   "metadata": {},
   "outputs": [],
   "source": [
    "X = final_df.copy()"
   ]
  },
  {
   "cell_type": "code",
   "execution_count": 15,
   "id": "069c71bc",
   "metadata": {},
   "outputs": [
    {
     "data": {
      "text/html": [
       "<div>\n",
       "<style scoped>\n",
       "    .dataframe tbody tr th:only-of-type {\n",
       "        vertical-align: middle;\n",
       "    }\n",
       "\n",
       "    .dataframe tbody tr th {\n",
       "        vertical-align: top;\n",
       "    }\n",
       "\n",
       "    .dataframe thead th {\n",
       "        text-align: right;\n",
       "    }\n",
       "</style>\n",
       "<table border=\"1\" class=\"dataframe\">\n",
       "  <thead>\n",
       "    <tr style=\"text-align: right;\">\n",
       "      <th></th>\n",
       "      <th>duration</th>\n",
       "      <th>amount</th>\n",
       "      <th>inst_rate</th>\n",
       "      <th>residing_since</th>\n",
       "      <th>age</th>\n",
       "      <th>num_credits</th>\n",
       "      <th>checkin_acc_A11</th>\n",
       "      <th>checkin_acc_A12</th>\n",
       "      <th>checkin_acc_A13</th>\n",
       "      <th>checkin_acc_A14</th>\n",
       "      <th>...</th>\n",
       "      <th>personal_status_A92</th>\n",
       "      <th>personal_status_A93</th>\n",
       "      <th>personal_status_A94</th>\n",
       "      <th>inst_plans_A141</th>\n",
       "      <th>inst_plans_A142</th>\n",
       "      <th>inst_plans_A143</th>\n",
       "      <th>job_A171</th>\n",
       "      <th>job_A172</th>\n",
       "      <th>job_A173</th>\n",
       "      <th>job_A174</th>\n",
       "    </tr>\n",
       "  </thead>\n",
       "  <tbody>\n",
       "    <tr>\n",
       "      <th>0</th>\n",
       "      <td>6</td>\n",
       "      <td>1169</td>\n",
       "      <td>4</td>\n",
       "      <td>4</td>\n",
       "      <td>67</td>\n",
       "      <td>2</td>\n",
       "      <td>1.0</td>\n",
       "      <td>0.0</td>\n",
       "      <td>0.0</td>\n",
       "      <td>0.0</td>\n",
       "      <td>...</td>\n",
       "      <td>0.0</td>\n",
       "      <td>1.0</td>\n",
       "      <td>0.0</td>\n",
       "      <td>0.0</td>\n",
       "      <td>0.0</td>\n",
       "      <td>1.0</td>\n",
       "      <td>0.0</td>\n",
       "      <td>0.0</td>\n",
       "      <td>1.0</td>\n",
       "      <td>0.0</td>\n",
       "    </tr>\n",
       "    <tr>\n",
       "      <th>1</th>\n",
       "      <td>48</td>\n",
       "      <td>5951</td>\n",
       "      <td>2</td>\n",
       "      <td>2</td>\n",
       "      <td>22</td>\n",
       "      <td>1</td>\n",
       "      <td>0.0</td>\n",
       "      <td>1.0</td>\n",
       "      <td>0.0</td>\n",
       "      <td>0.0</td>\n",
       "      <td>...</td>\n",
       "      <td>1.0</td>\n",
       "      <td>0.0</td>\n",
       "      <td>0.0</td>\n",
       "      <td>0.0</td>\n",
       "      <td>0.0</td>\n",
       "      <td>1.0</td>\n",
       "      <td>0.0</td>\n",
       "      <td>0.0</td>\n",
       "      <td>1.0</td>\n",
       "      <td>0.0</td>\n",
       "    </tr>\n",
       "    <tr>\n",
       "      <th>2</th>\n",
       "      <td>12</td>\n",
       "      <td>2096</td>\n",
       "      <td>2</td>\n",
       "      <td>3</td>\n",
       "      <td>49</td>\n",
       "      <td>1</td>\n",
       "      <td>0.0</td>\n",
       "      <td>0.0</td>\n",
       "      <td>0.0</td>\n",
       "      <td>1.0</td>\n",
       "      <td>...</td>\n",
       "      <td>0.0</td>\n",
       "      <td>1.0</td>\n",
       "      <td>0.0</td>\n",
       "      <td>0.0</td>\n",
       "      <td>0.0</td>\n",
       "      <td>1.0</td>\n",
       "      <td>0.0</td>\n",
       "      <td>1.0</td>\n",
       "      <td>0.0</td>\n",
       "      <td>0.0</td>\n",
       "    </tr>\n",
       "    <tr>\n",
       "      <th>3</th>\n",
       "      <td>42</td>\n",
       "      <td>7882</td>\n",
       "      <td>2</td>\n",
       "      <td>4</td>\n",
       "      <td>45</td>\n",
       "      <td>1</td>\n",
       "      <td>1.0</td>\n",
       "      <td>0.0</td>\n",
       "      <td>0.0</td>\n",
       "      <td>0.0</td>\n",
       "      <td>...</td>\n",
       "      <td>0.0</td>\n",
       "      <td>1.0</td>\n",
       "      <td>0.0</td>\n",
       "      <td>0.0</td>\n",
       "      <td>0.0</td>\n",
       "      <td>1.0</td>\n",
       "      <td>0.0</td>\n",
       "      <td>0.0</td>\n",
       "      <td>1.0</td>\n",
       "      <td>0.0</td>\n",
       "    </tr>\n",
       "    <tr>\n",
       "      <th>4</th>\n",
       "      <td>24</td>\n",
       "      <td>4870</td>\n",
       "      <td>3</td>\n",
       "      <td>4</td>\n",
       "      <td>53</td>\n",
       "      <td>2</td>\n",
       "      <td>1.0</td>\n",
       "      <td>0.0</td>\n",
       "      <td>0.0</td>\n",
       "      <td>0.0</td>\n",
       "      <td>...</td>\n",
       "      <td>0.0</td>\n",
       "      <td>1.0</td>\n",
       "      <td>0.0</td>\n",
       "      <td>0.0</td>\n",
       "      <td>0.0</td>\n",
       "      <td>1.0</td>\n",
       "      <td>0.0</td>\n",
       "      <td>0.0</td>\n",
       "      <td>1.0</td>\n",
       "      <td>0.0</td>\n",
       "    </tr>\n",
       "  </tbody>\n",
       "</table>\n",
       "<p>5 rows × 36 columns</p>\n",
       "</div>"
      ],
      "text/plain": [
       "   duration  amount  inst_rate  residing_since  age  num_credits  \\\n",
       "0         6    1169          4               4   67            2   \n",
       "1        48    5951          2               2   22            1   \n",
       "2        12    2096          2               3   49            1   \n",
       "3        42    7882          2               4   45            1   \n",
       "4        24    4870          3               4   53            2   \n",
       "\n",
       "   checkin_acc_A11  checkin_acc_A12  checkin_acc_A13  checkin_acc_A14  ...  \\\n",
       "0              1.0              0.0              0.0              0.0  ...   \n",
       "1              0.0              1.0              0.0              0.0  ...   \n",
       "2              0.0              0.0              0.0              1.0  ...   \n",
       "3              1.0              0.0              0.0              0.0  ...   \n",
       "4              1.0              0.0              0.0              0.0  ...   \n",
       "\n",
       "   personal_status_A92  personal_status_A93  personal_status_A94  \\\n",
       "0                  0.0                  1.0                  0.0   \n",
       "1                  1.0                  0.0                  0.0   \n",
       "2                  0.0                  1.0                  0.0   \n",
       "3                  0.0                  1.0                  0.0   \n",
       "4                  0.0                  1.0                  0.0   \n",
       "\n",
       "   inst_plans_A141  inst_plans_A142  inst_plans_A143  job_A171  job_A172  \\\n",
       "0              0.0              0.0              1.0       0.0       0.0   \n",
       "1              0.0              0.0              1.0       0.0       0.0   \n",
       "2              0.0              0.0              1.0       0.0       1.0   \n",
       "3              0.0              0.0              1.0       0.0       0.0   \n",
       "4              0.0              0.0              1.0       0.0       0.0   \n",
       "\n",
       "   job_A173  job_A174  \n",
       "0       1.0       0.0  \n",
       "1       1.0       0.0  \n",
       "2       0.0       0.0  \n",
       "3       1.0       0.0  \n",
       "4       1.0       0.0  \n",
       "\n",
       "[5 rows x 36 columns]"
      ]
     },
     "execution_count": 15,
     "metadata": {},
     "output_type": "execute_result"
    }
   ],
   "source": [
    "X.head()"
   ]
  },
  {
   "cell_type": "code",
   "execution_count": 16,
   "id": "837d912d",
   "metadata": {},
   "outputs": [
    {
     "data": {
      "text/plain": [
       "0    0\n",
       "1    1\n",
       "2    0\n",
       "3    0\n",
       "4    1\n",
       "Name: status, dtype: int64"
      ]
     },
     "execution_count": 16,
     "metadata": {},
     "output_type": "execute_result"
    }
   ],
   "source": [
    "y.head()"
   ]
  },
  {
   "cell_type": "code",
   "execution_count": 17,
   "id": "e7335a78",
   "metadata": {},
   "outputs": [],
   "source": [
    "X_train, X_test, y_train, y_test = train_test_split(X, y, test_size = 0.2, random_state = 42)"
   ]
  },
  {
   "cell_type": "code",
   "execution_count": 18,
   "id": "e2a999f9",
   "metadata": {},
   "outputs": [],
   "source": [
    "DecisionTree = DecisionTreeClassifier()"
   ]
  },
  {
   "cell_type": "markdown",
   "id": "08d06156",
   "metadata": {},
   "source": [
    "We will build a decision tree first without param specifications"
   ]
  },
  {
   "cell_type": "code",
   "execution_count": 19,
   "id": "074fa7a0",
   "metadata": {},
   "outputs": [
    {
     "data": {
      "text/plain": [
       "DecisionTreeClassifier()"
      ]
     },
     "execution_count": 19,
     "metadata": {},
     "output_type": "execute_result"
    }
   ],
   "source": [
    "DecisionTree.fit(X_train, y_train)"
   ]
  },
  {
   "cell_type": "code",
   "execution_count": 20,
   "id": "adfdd96b",
   "metadata": {},
   "outputs": [
    {
     "data": {
      "text/plain": [
       "array([0, 1, 0, 0, 0, 1, 0, 0, 0, 0, 0, 1, 1, 1, 1, 0, 0, 0, 0, 0, 1, 0,\n",
       "       0, 0, 0, 0, 0, 0, 0, 0, 1, 0, 0, 0, 0, 0, 0, 0, 0, 1, 0, 0, 0, 0,\n",
       "       0, 1, 0, 1, 0, 0, 1, 0, 0, 1, 0, 0, 0, 0, 0, 0, 0, 1, 1, 0, 1, 1,\n",
       "       0, 0, 1, 0, 0, 0, 0, 1, 0, 1, 0, 0, 0, 1, 0, 1, 0, 0, 0, 1, 1, 0,\n",
       "       0, 0, 0, 0, 1, 1, 0, 1, 0, 0, 1, 1, 0, 1, 1, 0, 0, 0, 0, 1, 0, 1,\n",
       "       0, 0, 0, 0, 0, 0, 1, 0, 0, 1, 1, 0, 0, 0, 0, 1, 0, 0, 0, 0, 0, 0,\n",
       "       0, 1, 1, 0, 0, 0, 1, 0, 1, 1, 0, 0, 0, 1, 1, 0, 0, 1, 0, 1, 0, 0,\n",
       "       0, 0, 0, 0, 1, 0, 1, 1, 0, 1, 0, 1, 0, 0, 0, 0, 0, 0, 0, 1, 0, 1,\n",
       "       0, 0, 0, 1, 0, 0, 0, 1, 0, 0, 0, 0, 0, 0, 0, 0, 0, 0, 1, 0, 1, 1,\n",
       "       0, 0], dtype=int64)"
      ]
     },
     "execution_count": 20,
     "metadata": {},
     "output_type": "execute_result"
    }
   ],
   "source": [
    "y_pred = DecisionTree.predict(X_test)\n",
    "y_pred"
   ]
  },
  {
   "cell_type": "code",
   "execution_count": 21,
   "id": "91b30c7b",
   "metadata": {},
   "outputs": [
    {
     "data": {
      "text/plain": [
       "0.705"
      ]
     },
     "execution_count": 21,
     "metadata": {},
     "output_type": "execute_result"
    }
   ],
   "source": [
    "metrics.accuracy_score(y_test, y_pred)"
   ]
  },
  {
   "cell_type": "code",
   "execution_count": 22,
   "id": "869af241",
   "metadata": {},
   "outputs": [],
   "source": [
    "GS = GridSearchCV(\n",
    "    estimator = DecisionTree,\n",
    "    param_grid  = {'criterion' : ['gini', 'entropy'], 'max_depth' : list(range(2,10 + 1))},\n",
    "    scoring = 'roc_auc',\n",
    "    cv = 10,\n",
    "    refit = 'roc_auc'\n",
    ")"
   ]
  },
  {
   "cell_type": "code",
   "execution_count": 23,
   "id": "b6c51ebd",
   "metadata": {},
   "outputs": [
    {
     "data": {
      "text/plain": [
       "GridSearchCV(cv=10, estimator=DecisionTreeClassifier(),\n",
       "             param_grid={'criterion': ['gini', 'entropy'],\n",
       "                         'max_depth': [2, 3, 4, 5, 6, 7, 8, 9, 10]},\n",
       "             refit='roc_auc', scoring='roc_auc')"
      ]
     },
     "execution_count": 23,
     "metadata": {},
     "output_type": "execute_result"
    }
   ],
   "source": [
    "GS.fit(X_train, y_train)"
   ]
  },
  {
   "cell_type": "code",
   "execution_count": 24,
   "id": "80893e41",
   "metadata": {},
   "outputs": [
    {
     "data": {
      "text/plain": [
       "0.7066734036796537"
      ]
     },
     "execution_count": 24,
     "metadata": {},
     "output_type": "execute_result"
    }
   ],
   "source": [
    "GS.best_score_"
   ]
  },
  {
   "cell_type": "code",
   "execution_count": 25,
   "id": "907ec4b6",
   "metadata": {},
   "outputs": [
    {
     "data": {
      "text/plain": [
       "{'criterion': 'gini', 'max_depth': 5}"
      ]
     },
     "execution_count": 25,
     "metadata": {},
     "output_type": "execute_result"
    }
   ],
   "source": [
    "GS.best_params_"
   ]
  },
  {
   "cell_type": "markdown",
   "id": "9e7ad8d3",
   "metadata": {},
   "source": [
    "We got a best fit roc_auc score of 1.0 with params gini for splitting criteria and 5 as max_depth of tree"
   ]
  },
  {
   "cell_type": "code",
   "execution_count": 26,
   "id": "6978a530",
   "metadata": {},
   "outputs": [],
   "source": [
    "DecisionTree = DecisionTreeClassifier(criterion = 'gini', max_depth = 5)"
   ]
  },
  {
   "cell_type": "code",
   "execution_count": 27,
   "id": "f0a058d0",
   "metadata": {},
   "outputs": [
    {
     "data": {
      "text/plain": [
       "array([0, 0, 0, 0, 0, 0, 0, 0, 0, 1, 0, 0, 0, 1, 1, 0, 0, 0, 0, 0, 0, 0,\n",
       "       0, 0, 0, 1, 0, 0, 0, 0, 0, 0, 0, 0, 0, 0, 0, 0, 0, 0, 0, 0, 0, 0,\n",
       "       0, 0, 0, 0, 0, 0, 0, 0, 1, 0, 0, 0, 0, 0, 0, 0, 0, 0, 0, 0, 0, 1,\n",
       "       0, 0, 0, 0, 0, 0, 0, 1, 0, 1, 0, 0, 0, 0, 0, 0, 0, 0, 0, 1, 1, 1,\n",
       "       0, 0, 0, 0, 1, 0, 0, 0, 0, 0, 1, 0, 0, 0, 0, 0, 0, 0, 0, 1, 0, 1,\n",
       "       0, 0, 0, 0, 0, 0, 0, 0, 0, 1, 0, 0, 0, 0, 0, 0, 0, 0, 0, 0, 0, 0,\n",
       "       0, 0, 0, 0, 0, 0, 0, 0, 1, 1, 0, 0, 0, 0, 0, 0, 0, 1, 0, 1, 0, 0,\n",
       "       0, 0, 0, 0, 0, 0, 1, 0, 0, 1, 0, 0, 0, 0, 0, 0, 0, 0, 0, 1, 0, 0,\n",
       "       0, 0, 0, 1, 0, 0, 0, 0, 0, 0, 1, 0, 0, 0, 0, 0, 0, 0, 1, 0, 1, 0,\n",
       "       0, 0], dtype=int64)"
      ]
     },
     "execution_count": 27,
     "metadata": {},
     "output_type": "execute_result"
    }
   ],
   "source": [
    "DecisionTree.fit(X_train, y_train)\n",
    "y_pred = DecisionTree.predict(X_test)\n",
    "y_pred"
   ]
  },
  {
   "cell_type": "code",
   "execution_count": 28,
   "id": "e747cf48",
   "metadata": {},
   "outputs": [
    {
     "data": {
      "text/plain": [
       "0.74"
      ]
     },
     "execution_count": 28,
     "metadata": {},
     "output_type": "execute_result"
    }
   ],
   "source": [
    "metrics.accuracy_score(y_test, y_pred)"
   ]
  },
  {
   "cell_type": "markdown",
   "id": "072f7a03",
   "metadata": {},
   "source": [
    "Accuracy score of 74% is obtained"
   ]
  },
  {
   "cell_type": "code",
   "execution_count": 29,
   "id": "e3f9895f",
   "metadata": {},
   "outputs": [],
   "source": [
    "import matplotlib.pyplot as plt"
   ]
  },
  {
   "cell_type": "code",
   "execution_count": 30,
   "id": "c19e45ff",
   "metadata": {},
   "outputs": [
    {
     "data": {
      "image/png": "[encoded data removed]",
      "text/plain": [
       "<Figure size 1440x720 with 1 Axes>"
      ]
     },
     "metadata": {
      "needs_background": "light"
     },
     "output_type": "display_data"
    }
   ],
   "source": [
    "fn = final_df.columns\n",
    "cn = ['0', '1']\n",
    "fig = plt.figure(figsize = (20,10))\n",
    "plot_tree(DecisionTree, feature_names = fn, class_names = cn, filled = True)\n",
    "plt.show(fig)"
   ]
  },
  {
   "cell_type": "code",
   "execution_count": 31,
   "id": "50a73a73",
   "metadata": {},
   "outputs": [
    {
     "ename": "AttributeError",
     "evalue": "module 'graphviz.backend' has no attribute 'ENCODING'",
     "output_type": "error",
     "traceback": [
      "\u001b[1;31m---------------------------------------------------------------------------\u001b[0m",
      "\u001b[1;31mAttributeError\u001b[0m                            Traceback (most recent call last)",
      "\u001b[1;32m<ipython-input-31-f065040801a9>\u001b[0m in \u001b[0;36m<module>\u001b[1;34m\u001b[0m\n\u001b[0;32m      1\u001b[0m \u001b[1;32mfrom\u001b[0m \u001b[0msklearn\u001b[0m\u001b[1;33m.\u001b[0m\u001b[0mtree\u001b[0m \u001b[1;32mimport\u001b[0m \u001b[0mexport_graphviz\u001b[0m\u001b[1;33m\u001b[0m\u001b[1;33m\u001b[0m\u001b[0m\n\u001b[1;32m----> 2\u001b[1;33m \u001b[1;32mimport\u001b[0m \u001b[0mgraphviz\u001b[0m\u001b[1;33m\u001b[0m\u001b[1;33m\u001b[0m\u001b[0m\n\u001b[0m",
      "\u001b[1;32mD:\\Anaconda3\\lib\\site-packages\\graphviz\\__init__.py\u001b[0m in \u001b[0;36m<module>\u001b[1;34m\u001b[0m\n\u001b[0;32m     25\u001b[0m \"\"\"\n\u001b[0;32m     26\u001b[0m \u001b[1;33m\u001b[0m\u001b[0m\n\u001b[1;32m---> 27\u001b[1;33m \u001b[1;32mfrom\u001b[0m \u001b[1;33m.\u001b[0m\u001b[0mdot\u001b[0m \u001b[1;32mimport\u001b[0m \u001b[0mGraph\u001b[0m\u001b[1;33m,\u001b[0m \u001b[0mDigraph\u001b[0m\u001b[1;33m\u001b[0m\u001b[1;33m\u001b[0m\u001b[0m\n\u001b[0m\u001b[0;32m     28\u001b[0m \u001b[1;32mfrom\u001b[0m \u001b[1;33m.\u001b[0m\u001b[0mfiles\u001b[0m \u001b[1;32mimport\u001b[0m \u001b[0mSource\u001b[0m\u001b[1;33m\u001b[0m\u001b[1;33m\u001b[0m\u001b[0m\n\u001b[0;32m     29\u001b[0m \u001b[1;32mfrom\u001b[0m \u001b[1;33m.\u001b[0m\u001b[0mlang\u001b[0m \u001b[1;32mimport\u001b[0m \u001b[0mescape\u001b[0m\u001b[1;33m,\u001b[0m \u001b[0mnohtml\u001b[0m\u001b[1;33m\u001b[0m\u001b[1;33m\u001b[0m\u001b[0m\n",
      "\u001b[1;32mD:\\Anaconda3\\lib\\site-packages\\graphviz\\dot.py\u001b[0m in \u001b[0;36m<module>\u001b[1;34m\u001b[0m\n\u001b[0;32m     30\u001b[0m \u001b[1;33m\u001b[0m\u001b[0m\n\u001b[0;32m     31\u001b[0m \u001b[1;32mfrom\u001b[0m \u001b[1;33m.\u001b[0m \u001b[1;32mimport\u001b[0m \u001b[0mbackend\u001b[0m\u001b[1;33m\u001b[0m\u001b[1;33m\u001b[0m\u001b[0m\n\u001b[1;32m---> 32\u001b[1;33m \u001b[1;32mfrom\u001b[0m \u001b[1;33m.\u001b[0m \u001b[1;32mimport\u001b[0m \u001b[0mfiles\u001b[0m\u001b[1;33m\u001b[0m\u001b[1;33m\u001b[0m\u001b[0m\n\u001b[0m\u001b[0;32m     33\u001b[0m \u001b[1;32mfrom\u001b[0m \u001b[1;33m.\u001b[0m \u001b[1;32mimport\u001b[0m \u001b[0mlang\u001b[0m\u001b[1;33m\u001b[0m\u001b[1;33m\u001b[0m\u001b[0m\n\u001b[0;32m     34\u001b[0m \u001b[1;33m\u001b[0m\u001b[0m\n",
      "\u001b[1;32mD:\\Anaconda3\\lib\\site-packages\\graphviz\\files.py\u001b[0m in \u001b[0;36m<module>\u001b[1;34m\u001b[0m\n\u001b[0;32m     20\u001b[0m \u001b[1;33m\u001b[0m\u001b[0m\n\u001b[0;32m     21\u001b[0m \u001b[1;33m\u001b[0m\u001b[0m\n\u001b[1;32m---> 22\u001b[1;33m \u001b[1;32mclass\u001b[0m \u001b[0mBase\u001b[0m\u001b[1;33m(\u001b[0m\u001b[0mobject\u001b[0m\u001b[1;33m)\u001b[0m\u001b[1;33m:\u001b[0m\u001b[1;33m\u001b[0m\u001b[1;33m\u001b[0m\u001b[0m\n\u001b[0m\u001b[0;32m     23\u001b[0m \u001b[1;33m\u001b[0m\u001b[0m\n\u001b[0;32m     24\u001b[0m     \u001b[0m_engine\u001b[0m \u001b[1;33m=\u001b[0m \u001b[1;34m'dot'\u001b[0m\u001b[1;33m\u001b[0m\u001b[1;33m\u001b[0m\u001b[0m\n",
      "\u001b[1;32mD:\\Anaconda3\\lib\\site-packages\\graphviz\\files.py\u001b[0m in \u001b[0;36mBase\u001b[1;34m()\u001b[0m\n\u001b[0;32m     26\u001b[0m     \u001b[0m_format\u001b[0m \u001b[1;33m=\u001b[0m \u001b[1;34m'pdf'\u001b[0m\u001b[1;33m\u001b[0m\u001b[1;33m\u001b[0m\u001b[0m\n\u001b[0;32m     27\u001b[0m \u001b[1;33m\u001b[0m\u001b[0m\n\u001b[1;32m---> 28\u001b[1;33m     \u001b[0m_encoding\u001b[0m \u001b[1;33m=\u001b[0m \u001b[0mbackend\u001b[0m\u001b[1;33m.\u001b[0m\u001b[0mENCODING\u001b[0m\u001b[1;33m\u001b[0m\u001b[1;33m\u001b[0m\u001b[0m\n\u001b[0m\u001b[0;32m     29\u001b[0m \u001b[1;33m\u001b[0m\u001b[0m\n\u001b[0;32m     30\u001b[0m     \u001b[1;33m@\u001b[0m\u001b[0mproperty\u001b[0m\u001b[1;33m\u001b[0m\u001b[1;33m\u001b[0m\u001b[0m\n",
      "\u001b[1;31mAttributeError\u001b[0m: module 'graphviz.backend' has no attribute 'ENCODING'"
     ]
    }
   ],
   "source": [
    "from sklearn.tree import export_graphviz\n",
    "import graphviz"
   ]
  },
  {
   "cell_type": "code",
   "execution_count": null,
   "id": "29ce6b91",
   "metadata": {},
   "outputs": [],
   "source": [
    "dot = export_graphviz(DecisionTree, feature_names = fn, class_names = cn, filled = True)\n",
    "graph = graphviz.Source(dot)"
   ]
  },
  {
   "cell_type": "code",
   "execution_count": null,
   "id": "89598c43",
   "metadata": {},
   "outputs": [],
   "source": [
    "graph"
   ]
  },
  {
   "cell_type": "code",
   "execution_count": 32,
   "id": "cfe96843",
   "metadata": {},
   "outputs": [],
   "source": [
    "from sklearn.tree import export_text"
   ]
  },
  {
   "cell_type": "code",
   "execution_count": 34,
   "id": "d9d6bf0a",
   "metadata": {},
   "outputs": [
    {
     "name": "stdout",
     "output_type": "stream",
     "text": [
      "|--- feature_9 <= 0.50\n",
      "|   |--- feature_0 <= 22.50\n",
      "|   |   |--- feature_11 <= 0.50\n",
      "|   |   |   |--- feature_10 <= 0.50\n",
      "|   |   |   |   |--- feature_1 <= 7491.50\n",
      "|   |   |   |   |   |--- class: 0\n",
      "|   |   |   |   |--- feature_1 >  7491.50\n",
      "|   |   |   |   |   |--- class: 1\n",
      "|   |   |   |--- feature_10 >  0.50\n",
      "|   |   |   |   |--- feature_31 <= 0.50\n",
      "|   |   |   |   |   |--- class: 0\n",
      "|   |   |   |   |--- feature_31 >  0.50\n",
      "|   |   |   |   |   |--- class: 1\n",
      "|   |   |--- feature_11 >  0.50\n",
      "|   |   |   |--- feature_8 <= 0.50\n",
      "|   |   |   |   |--- feature_1 <= 518.00\n",
      "|   |   |   |   |   |--- class: 0\n",
      "|   |   |   |   |--- feature_1 >  518.00\n",
      "|   |   |   |   |   |--- class: 1\n",
      "|   |   |   |--- feature_8 >  0.50\n",
      "|   |   |   |   |--- class: 0\n",
      "|   |--- feature_0 >  22.50\n",
      "|   |   |--- feature_15 <= 0.50\n",
      "|   |   |   |--- feature_12 <= 0.50\n",
      "|   |   |   |   |--- feature_1 <= 1370.00\n",
      "|   |   |   |   |   |--- class: 1\n",
      "|   |   |   |   |--- feature_1 >  1370.00\n",
      "|   |   |   |   |   |--- class: 0\n",
      "|   |   |   |--- feature_12 >  0.50\n",
      "|   |   |   |   |--- feature_16 <= 0.50\n",
      "|   |   |   |   |   |--- class: 0\n",
      "|   |   |   |   |--- feature_16 >  0.50\n",
      "|   |   |   |   |   |--- class: 1\n",
      "|   |   |--- feature_15 >  0.50\n",
      "|   |   |   |--- feature_0 <= 47.50\n",
      "|   |   |   |   |--- feature_1 <= 2211.50\n",
      "|   |   |   |   |   |--- class: 1\n",
      "|   |   |   |   |--- feature_1 >  2211.50\n",
      "|   |   |   |   |   |--- class: 0\n",
      "|   |   |   |--- feature_0 >  47.50\n",
      "|   |   |   |   |--- feature_4 <= 27.00\n",
      "|   |   |   |   |   |--- class: 1\n",
      "|   |   |   |   |--- feature_4 >  27.00\n",
      "|   |   |   |   |   |--- class: 1\n",
      "|--- feature_9 >  0.50\n",
      "|   |--- feature_31 <= 0.50\n",
      "|   |   |--- feature_10 <= 0.50\n",
      "|   |   |   |--- feature_3 <= 2.50\n",
      "|   |   |   |   |--- feature_4 <= 34.50\n",
      "|   |   |   |   |   |--- class: 0\n",
      "|   |   |   |   |--- feature_4 >  34.50\n",
      "|   |   |   |   |   |--- class: 1\n",
      "|   |   |   |--- feature_3 >  2.50\n",
      "|   |   |   |   |--- feature_1 <= 1005.00\n",
      "|   |   |   |   |   |--- class: 1\n",
      "|   |   |   |   |--- feature_1 >  1005.00\n",
      "|   |   |   |   |   |--- class: 0\n",
      "|   |   |--- feature_10 >  0.50\n",
      "|   |   |   |--- class: 1\n",
      "|   |--- feature_31 >  0.50\n",
      "|   |   |--- feature_4 <= 31.50\n",
      "|   |   |   |--- feature_1 <= 6465.50\n",
      "|   |   |   |   |--- feature_4 <= 22.50\n",
      "|   |   |   |   |   |--- class: 0\n",
      "|   |   |   |   |--- feature_4 >  22.50\n",
      "|   |   |   |   |   |--- class: 0\n",
      "|   |   |   |--- feature_1 >  6465.50\n",
      "|   |   |   |   |--- feature_23 <= 0.50\n",
      "|   |   |   |   |   |--- class: 1\n",
      "|   |   |   |   |--- feature_23 >  0.50\n",
      "|   |   |   |   |   |--- class: 0\n",
      "|   |   |--- feature_4 >  31.50\n",
      "|   |   |   |--- feature_1 <= 4558.50\n",
      "|   |   |   |   |--- feature_18 <= 0.50\n",
      "|   |   |   |   |   |--- class: 0\n",
      "|   |   |   |   |--- feature_18 >  0.50\n",
      "|   |   |   |   |   |--- class: 0\n",
      "|   |   |   |--- feature_1 >  4558.50\n",
      "|   |   |   |   |--- feature_1 <= 4651.00\n",
      "|   |   |   |   |   |--- class: 1\n",
      "|   |   |   |   |--- feature_1 >  4651.00\n",
      "|   |   |   |   |   |--- class: 0\n",
      "\n"
     ]
    }
   ],
   "source": [
    "print(export_text(DecisionTree))"
   ]
  },
  {
   "cell_type": "code",
   "execution_count": null,
   "id": "f0dd8fda",
   "metadata": {},
   "outputs": [],
   "source": []
  }
 ],
 "metadata": {
  "kernelspec": {
   "display_name": "Python 3 (ipykernel)",
   "language": "python",
   "name": "python3"
  },
  "language_info": {
   "codemirror_mode": {
    "name": "ipython",
    "version": 3
   },
   "file_extension": ".py",
   "mimetype": "text/x-python",
   "name": "python",
   "nbconvert_exporter": "python",
   "pygments_lexer": "ipython3",
   "version": "3.10.4"
  }
 },
 "nbformat": 4,
 "nbformat_minor": 5
}
