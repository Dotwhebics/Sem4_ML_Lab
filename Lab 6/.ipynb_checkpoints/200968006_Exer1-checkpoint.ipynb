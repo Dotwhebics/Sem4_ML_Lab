{
 "cells": [
  {
   "cell_type": "code",
   "execution_count": 1,
   "id": "688cb2db",
   "metadata": {},
   "outputs": [],
   "source": [
    "import pandas as pd\n",
    "import matplotlib.pyplot as plt\n",
    "import seaborn as sns\n",
    "import numpy as np\n",
    "\n",
    "import warnings\n",
    "warnings.filterwarnings('ignore')"
   ]
  },
  {
   "cell_type": "markdown",
   "id": "a5d13d84",
   "metadata": {},
   "source": [
    "# Neural Network with wine.csv"
   ]
  },
  {
   "cell_type": "code",
   "execution_count": 2,
   "id": "39c0c6ae",
   "metadata": {},
   "outputs": [
    {
     "data": {
      "text/html": [
       "<div>\n",
       "<style scoped>\n",
       "    .dataframe tbody tr th:only-of-type {\n",
       "        vertical-align: middle;\n",
       "    }\n",
       "\n",
       "    .dataframe tbody tr th {\n",
       "        vertical-align: top;\n",
       "    }\n",
       "\n",
       "    .dataframe thead th {\n",
       "        text-align: right;\n",
       "    }\n",
       "</style>\n",
       "<table border=\"1\" class=\"dataframe\">\n",
       "  <thead>\n",
       "    <tr style=\"text-align: right;\">\n",
       "      <th></th>\n",
       "      <th>Class</th>\n",
       "      <th>Alcohol</th>\n",
       "      <th>Malic acid</th>\n",
       "      <th>Ash</th>\n",
       "      <th>Alcalinity of ash</th>\n",
       "      <th>Magnesium</th>\n",
       "      <th>Total phenols</th>\n",
       "      <th>Flavanoids</th>\n",
       "      <th>Nonflavanoid phenols</th>\n",
       "      <th>Proanthocyanins</th>\n",
       "      <th>Color intensity</th>\n",
       "      <th>Hue</th>\n",
       "      <th>OD280/OD315 of diluted wines</th>\n",
       "      <th>Proline</th>\n",
       "    </tr>\n",
       "  </thead>\n",
       "  <tbody>\n",
       "    <tr>\n",
       "      <th>0</th>\n",
       "      <td>1</td>\n",
       "      <td>14.23</td>\n",
       "      <td>1.71</td>\n",
       "      <td>2.43</td>\n",
       "      <td>15.6</td>\n",
       "      <td>127</td>\n",
       "      <td>2.80</td>\n",
       "      <td>3.06</td>\n",
       "      <td>0.28</td>\n",
       "      <td>2.29</td>\n",
       "      <td>5.64</td>\n",
       "      <td>1.04</td>\n",
       "      <td>3.92</td>\n",
       "      <td>1065</td>\n",
       "    </tr>\n",
       "    <tr>\n",
       "      <th>1</th>\n",
       "      <td>1</td>\n",
       "      <td>13.20</td>\n",
       "      <td>1.78</td>\n",
       "      <td>2.14</td>\n",
       "      <td>11.2</td>\n",
       "      <td>100</td>\n",
       "      <td>2.65</td>\n",
       "      <td>2.76</td>\n",
       "      <td>0.26</td>\n",
       "      <td>1.28</td>\n",
       "      <td>4.38</td>\n",
       "      <td>1.05</td>\n",
       "      <td>3.40</td>\n",
       "      <td>1050</td>\n",
       "    </tr>\n",
       "    <tr>\n",
       "      <th>2</th>\n",
       "      <td>1</td>\n",
       "      <td>13.16</td>\n",
       "      <td>2.36</td>\n",
       "      <td>2.67</td>\n",
       "      <td>18.6</td>\n",
       "      <td>101</td>\n",
       "      <td>2.80</td>\n",
       "      <td>3.24</td>\n",
       "      <td>0.30</td>\n",
       "      <td>2.81</td>\n",
       "      <td>5.68</td>\n",
       "      <td>1.03</td>\n",
       "      <td>3.17</td>\n",
       "      <td>1185</td>\n",
       "    </tr>\n",
       "    <tr>\n",
       "      <th>3</th>\n",
       "      <td>1</td>\n",
       "      <td>14.37</td>\n",
       "      <td>1.95</td>\n",
       "      <td>2.50</td>\n",
       "      <td>16.8</td>\n",
       "      <td>113</td>\n",
       "      <td>3.85</td>\n",
       "      <td>3.49</td>\n",
       "      <td>0.24</td>\n",
       "      <td>2.18</td>\n",
       "      <td>7.80</td>\n",
       "      <td>0.86</td>\n",
       "      <td>3.45</td>\n",
       "      <td>1480</td>\n",
       "    </tr>\n",
       "    <tr>\n",
       "      <th>4</th>\n",
       "      <td>1</td>\n",
       "      <td>13.24</td>\n",
       "      <td>2.59</td>\n",
       "      <td>2.87</td>\n",
       "      <td>21.0</td>\n",
       "      <td>118</td>\n",
       "      <td>2.80</td>\n",
       "      <td>2.69</td>\n",
       "      <td>0.39</td>\n",
       "      <td>1.82</td>\n",
       "      <td>4.32</td>\n",
       "      <td>1.04</td>\n",
       "      <td>2.93</td>\n",
       "      <td>735</td>\n",
       "    </tr>\n",
       "  </tbody>\n",
       "</table>\n",
       "</div>"
      ],
      "text/plain": [
       "   Class  Alcohol  Malic acid   Ash  Alcalinity of ash  Magnesium  \\\n",
       "0      1    14.23        1.71  2.43               15.6        127   \n",
       "1      1    13.20        1.78  2.14               11.2        100   \n",
       "2      1    13.16        2.36  2.67               18.6        101   \n",
       "3      1    14.37        1.95  2.50               16.8        113   \n",
       "4      1    13.24        2.59  2.87               21.0        118   \n",
       "\n",
       "   Total phenols  Flavanoids  Nonflavanoid phenols  Proanthocyanins  \\\n",
       "0           2.80        3.06                  0.28             2.29   \n",
       "1           2.65        2.76                  0.26             1.28   \n",
       "2           2.80        3.24                  0.30             2.81   \n",
       "3           3.85        3.49                  0.24             2.18   \n",
       "4           2.80        2.69                  0.39             1.82   \n",
       "\n",
       "   Color intensity   Hue  OD280/OD315 of diluted wines  Proline   \n",
       "0             5.64  1.04                          3.92      1065  \n",
       "1             4.38  1.05                          3.40      1050  \n",
       "2             5.68  1.03                          3.17      1185  \n",
       "3             7.80  0.86                          3.45      1480  \n",
       "4             4.32  1.04                          2.93       735  "
      ]
     },
     "execution_count": 2,
     "metadata": {},
     "output_type": "execute_result"
    }
   ],
   "source": [
    "wine = pd.read_csv('wine.csv')\n",
    "wine.head()"
   ]
  },
  {
   "cell_type": "markdown",
   "id": "4518e5a6",
   "metadata": {},
   "source": [
    "Attributes in wine.csv:  \n",
    "1) Alcohol  \n",
    "2) Malic acid  \n",
    "3) Ash  \n",
    "4) Alcalinity of ash  \n",
    "5) Magnesium  \n",
    "6) Total phenols  \n",
    "7) Flavanoids  \n",
    "8) Nonflavanoid phenols  \n",
    "9) Proanthocyanins  \n",
    "10)Color intensity  \n",
    "11)Hue  \n",
    "12)OD280/OD315 of diluted wines  \n",
    "13)Proline  \n",
    "\n",
    "The target attribute is Class attribute for classification  \n",
    "All the attributes other than target are continuous.  \n",
    "Total instances: 178"
   ]
  },
  {
   "cell_type": "code",
   "execution_count": 3,
   "id": "389a1589",
   "metadata": {},
   "outputs": [
    {
     "data": {
      "text/plain": [
       "(178, 14)"
      ]
     },
     "execution_count": 3,
     "metadata": {},
     "output_type": "execute_result"
    }
   ],
   "source": [
    "wine.shape"
   ]
  },
  {
   "cell_type": "code",
   "execution_count": 4,
   "id": "5764e8cb",
   "metadata": {},
   "outputs": [
    {
     "data": {
      "text/plain": [
       "Class                           0\n",
       "Alcohol                         0\n",
       "Malic acid                      0\n",
       "Ash                             0\n",
       "Alcalinity of ash               0\n",
       "Magnesium                       0\n",
       "Total phenols                   0\n",
       "Flavanoids                      0\n",
       "Nonflavanoid phenols            0\n",
       "Proanthocyanins                 0\n",
       "Color intensity                 0\n",
       "Hue                             0\n",
       "OD280/OD315 of diluted wines    0\n",
       "Proline                         0\n",
       "dtype: int64"
      ]
     },
     "execution_count": 4,
     "metadata": {},
     "output_type": "execute_result"
    }
   ],
   "source": [
    "wine.isna().sum()"
   ]
  },
  {
   "cell_type": "code",
   "execution_count": 5,
   "id": "03e36feb",
   "metadata": {},
   "outputs": [
    {
     "data": {
      "text/plain": [
       "['Alcohol',\n",
       " 'Malic acid',\n",
       " 'Ash',\n",
       " 'Alcalinity of ash',\n",
       " 'Magnesium',\n",
       " 'Total phenols',\n",
       " 'Flavanoids',\n",
       " 'Nonflavanoid phenols',\n",
       " 'Proanthocyanins',\n",
       " 'Color intensity',\n",
       " 'Hue',\n",
       " 'OD280/OD315 of diluted wines',\n",
       " 'Proline ']"
      ]
     },
     "execution_count": 5,
     "metadata": {},
     "output_type": "execute_result"
    }
   ],
   "source": [
    "cols = list(wine.columns)\n",
    "cols.remove('Class')  # removing Class column to retain numeric columns\n",
    "cols"
   ]
  },
  {
   "cell_type": "markdown",
   "id": "47925224",
   "metadata": {},
   "source": [
    "## Distribution of the Variables "
   ]
  },
  {
   "cell_type": "code",
   "execution_count": 6,
   "id": "7023e01d",
   "metadata": {},
   "outputs": [
    {
     "data": {
      "text/html": [
       "<div>\n",
       "<style scoped>\n",
       "    .dataframe tbody tr th:only-of-type {\n",
       "        vertical-align: middle;\n",
       "    }\n",
       "\n",
       "    .dataframe tbody tr th {\n",
       "        vertical-align: top;\n",
       "    }\n",
       "\n",
       "    .dataframe thead th {\n",
       "        text-align: right;\n",
       "    }\n",
       "</style>\n",
       "<table border=\"1\" class=\"dataframe\">\n",
       "  <thead>\n",
       "    <tr style=\"text-align: right;\">\n",
       "      <th></th>\n",
       "      <th>Alcohol</th>\n",
       "      <th>Malic acid</th>\n",
       "      <th>Ash</th>\n",
       "      <th>Alcalinity of ash</th>\n",
       "      <th>Magnesium</th>\n",
       "      <th>Total phenols</th>\n",
       "      <th>Flavanoids</th>\n",
       "      <th>Nonflavanoid phenols</th>\n",
       "      <th>Proanthocyanins</th>\n",
       "      <th>Color intensity</th>\n",
       "      <th>Hue</th>\n",
       "      <th>OD280/OD315 of diluted wines</th>\n",
       "      <th>Proline</th>\n",
       "    </tr>\n",
       "  </thead>\n",
       "  <tbody>\n",
       "    <tr>\n",
       "      <th>count</th>\n",
       "      <td>178.000000</td>\n",
       "      <td>178.000000</td>\n",
       "      <td>178.000000</td>\n",
       "      <td>178.000000</td>\n",
       "      <td>178.000000</td>\n",
       "      <td>178.000000</td>\n",
       "      <td>178.000000</td>\n",
       "      <td>178.000000</td>\n",
       "      <td>178.000000</td>\n",
       "      <td>178.000000</td>\n",
       "      <td>178.000000</td>\n",
       "      <td>178.000000</td>\n",
       "      <td>178.000000</td>\n",
       "    </tr>\n",
       "    <tr>\n",
       "      <th>mean</th>\n",
       "      <td>13.000618</td>\n",
       "      <td>2.336348</td>\n",
       "      <td>2.366517</td>\n",
       "      <td>19.494944</td>\n",
       "      <td>99.741573</td>\n",
       "      <td>2.295112</td>\n",
       "      <td>2.029270</td>\n",
       "      <td>0.361854</td>\n",
       "      <td>1.590899</td>\n",
       "      <td>5.058090</td>\n",
       "      <td>0.957449</td>\n",
       "      <td>2.611685</td>\n",
       "      <td>746.893258</td>\n",
       "    </tr>\n",
       "    <tr>\n",
       "      <th>std</th>\n",
       "      <td>0.811827</td>\n",
       "      <td>1.117146</td>\n",
       "      <td>0.274344</td>\n",
       "      <td>3.339564</td>\n",
       "      <td>14.282484</td>\n",
       "      <td>0.625851</td>\n",
       "      <td>0.998859</td>\n",
       "      <td>0.124453</td>\n",
       "      <td>0.572359</td>\n",
       "      <td>2.318286</td>\n",
       "      <td>0.228572</td>\n",
       "      <td>0.709990</td>\n",
       "      <td>314.907474</td>\n",
       "    </tr>\n",
       "    <tr>\n",
       "      <th>min</th>\n",
       "      <td>11.030000</td>\n",
       "      <td>0.740000</td>\n",
       "      <td>1.360000</td>\n",
       "      <td>10.600000</td>\n",
       "      <td>70.000000</td>\n",
       "      <td>0.980000</td>\n",
       "      <td>0.340000</td>\n",
       "      <td>0.130000</td>\n",
       "      <td>0.410000</td>\n",
       "      <td>1.280000</td>\n",
       "      <td>0.480000</td>\n",
       "      <td>1.270000</td>\n",
       "      <td>278.000000</td>\n",
       "    </tr>\n",
       "    <tr>\n",
       "      <th>25%</th>\n",
       "      <td>12.362500</td>\n",
       "      <td>1.602500</td>\n",
       "      <td>2.210000</td>\n",
       "      <td>17.200000</td>\n",
       "      <td>88.000000</td>\n",
       "      <td>1.742500</td>\n",
       "      <td>1.205000</td>\n",
       "      <td>0.270000</td>\n",
       "      <td>1.250000</td>\n",
       "      <td>3.220000</td>\n",
       "      <td>0.782500</td>\n",
       "      <td>1.937500</td>\n",
       "      <td>500.500000</td>\n",
       "    </tr>\n",
       "    <tr>\n",
       "      <th>50%</th>\n",
       "      <td>13.050000</td>\n",
       "      <td>1.865000</td>\n",
       "      <td>2.360000</td>\n",
       "      <td>19.500000</td>\n",
       "      <td>98.000000</td>\n",
       "      <td>2.355000</td>\n",
       "      <td>2.135000</td>\n",
       "      <td>0.340000</td>\n",
       "      <td>1.555000</td>\n",
       "      <td>4.690000</td>\n",
       "      <td>0.965000</td>\n",
       "      <td>2.780000</td>\n",
       "      <td>673.500000</td>\n",
       "    </tr>\n",
       "    <tr>\n",
       "      <th>75%</th>\n",
       "      <td>13.677500</td>\n",
       "      <td>3.082500</td>\n",
       "      <td>2.557500</td>\n",
       "      <td>21.500000</td>\n",
       "      <td>107.000000</td>\n",
       "      <td>2.800000</td>\n",
       "      <td>2.875000</td>\n",
       "      <td>0.437500</td>\n",
       "      <td>1.950000</td>\n",
       "      <td>6.200000</td>\n",
       "      <td>1.120000</td>\n",
       "      <td>3.170000</td>\n",
       "      <td>985.000000</td>\n",
       "    </tr>\n",
       "    <tr>\n",
       "      <th>max</th>\n",
       "      <td>14.830000</td>\n",
       "      <td>5.800000</td>\n",
       "      <td>3.230000</td>\n",
       "      <td>30.000000</td>\n",
       "      <td>162.000000</td>\n",
       "      <td>3.880000</td>\n",
       "      <td>5.080000</td>\n",
       "      <td>0.660000</td>\n",
       "      <td>3.580000</td>\n",
       "      <td>13.000000</td>\n",
       "      <td>1.710000</td>\n",
       "      <td>4.000000</td>\n",
       "      <td>1680.000000</td>\n",
       "    </tr>\n",
       "  </tbody>\n",
       "</table>\n",
       "</div>"
      ],
      "text/plain": [
       "          Alcohol  Malic acid         Ash  Alcalinity of ash   Magnesium  \\\n",
       "count  178.000000  178.000000  178.000000         178.000000  178.000000   \n",
       "mean    13.000618    2.336348    2.366517          19.494944   99.741573   \n",
       "std      0.811827    1.117146    0.274344           3.339564   14.282484   \n",
       "min     11.030000    0.740000    1.360000          10.600000   70.000000   \n",
       "25%     12.362500    1.602500    2.210000          17.200000   88.000000   \n",
       "50%     13.050000    1.865000    2.360000          19.500000   98.000000   \n",
       "75%     13.677500    3.082500    2.557500          21.500000  107.000000   \n",
       "max     14.830000    5.800000    3.230000          30.000000  162.000000   \n",
       "\n",
       "       Total phenols  Flavanoids  Nonflavanoid phenols  Proanthocyanins  \\\n",
       "count     178.000000  178.000000            178.000000       178.000000   \n",
       "mean        2.295112    2.029270              0.361854         1.590899   \n",
       "std         0.625851    0.998859              0.124453         0.572359   \n",
       "min         0.980000    0.340000              0.130000         0.410000   \n",
       "25%         1.742500    1.205000              0.270000         1.250000   \n",
       "50%         2.355000    2.135000              0.340000         1.555000   \n",
       "75%         2.800000    2.875000              0.437500         1.950000   \n",
       "max         3.880000    5.080000              0.660000         3.580000   \n",
       "\n",
       "       Color intensity         Hue  OD280/OD315 of diluted wines     Proline   \n",
       "count       178.000000  178.000000                    178.000000   178.000000  \n",
       "mean          5.058090    0.957449                      2.611685   746.893258  \n",
       "std           2.318286    0.228572                      0.709990   314.907474  \n",
       "min           1.280000    0.480000                      1.270000   278.000000  \n",
       "25%           3.220000    0.782500                      1.937500   500.500000  \n",
       "50%           4.690000    0.965000                      2.780000   673.500000  \n",
       "75%           6.200000    1.120000                      3.170000   985.000000  \n",
       "max          13.000000    1.710000                      4.000000  1680.000000  "
      ]
     },
     "execution_count": 6,
     "metadata": {},
     "output_type": "execute_result"
    }
   ],
   "source": [
    "wine[cols].describe()  # distribution of attributes"
   ]
  },
  {
   "cell_type": "code",
   "execution_count": 7,
   "id": "e22ce1c0",
   "metadata": {},
   "outputs": [
    {
     "data": {
      "image/png": "[encoded data removed]",
      "text/plain": [
       "<Figure size 360x360 with 1 Axes>"
      ]
     },
     "metadata": {
      "needs_background": "light"
     },
     "output_type": "display_data"
    },
    {
     "data": {
      "image/png": "[encoded data removed]",
      "text/plain": [
       "<Figure size 360x360 with 1 Axes>"
      ]
     },
     "metadata": {
      "needs_background": "light"
     },
     "output_type": "display_data"
    },
    {
     "data": {
      "image/png": "[encoded data removed]",
      "text/plain": [
       "<Figure size 360x360 with 1 Axes>"
      ]
     },
     "metadata": {
      "needs_background": "light"
     },
     "output_type": "display_data"
    },
    {
     "data": {
      "image/png": "[encoded data removed]",
      "text/plain": [
       "<Figure size 360x360 with 1 Axes>"
      ]
     },
     "metadata": {
      "needs_background": "light"
     },
     "output_type": "display_data"
    },
    {
     "data": {
      "image/png": "[encoded data removed]",
      "text/plain": [
       "<Figure size 360x360 with 1 Axes>"
      ]
     },
     "metadata": {
      "needs_background": "light"
     },
     "output_type": "display_data"
    },
    {
     "data": {
      "image/png": "[encoded data removed]",
      "text/plain": [
       "<Figure size 360x360 with 1 Axes>"
      ]
     },
     "metadata": {
      "needs_background": "light"
     },
     "output_type": "display_data"
    },
    {
     "data": {
      "image/png": "[encoded data removed]",
      "text/plain": [
       "<Figure size 360x360 with 1 Axes>"
      ]
     },
     "metadata": {
      "needs_background": "light"
     },
     "output_type": "display_data"
    },
    {
     "data": {
      "image/png": "[encoded data removed]",
      "text/plain": [
       "<Figure size 360x360 with 1 Axes>"
      ]
     },
     "metadata": {
      "needs_background": "light"
     },
     "output_type": "display_data"
    },
    {
     "data": {
      "image/png": "[encoded data removed]",
      "text/plain": [
       "<Figure size 360x360 with 1 Axes>"
      ]
     },
     "metadata": {
      "needs_background": "light"
     },
     "output_type": "display_data"
    },
    {
     "data": {
      "image/png": "[encoded data removed]",
      "text/plain": [
       "<Figure size 360x360 with 1 Axes>"
      ]
     },
     "metadata": {
      "needs_background": "light"
     },
     "output_type": "display_data"
    },
    {
     "data": {
      "image/png": "[encoded data removed]",
      "text/plain": [
       "<Figure size 360x360 with 1 Axes>"
      ]
     },
     "metadata": {
      "needs_background": "light"
     },
     "output_type": "display_data"
    },
    {
     "data": {
      "image/png": "[encoded data removed]",
      "text/plain": [
       "<Figure size 360x360 with 1 Axes>"
      ]
     },
     "metadata": {
      "needs_background": "light"
     },
     "output_type": "display_data"
    },
    {
     "data": {
      "image/png": "[encoded data removed]",
      "text/plain": [
       "<Figure size 360x360 with 1 Axes>"
      ]
     },
     "metadata": {
      "needs_background": "light"
     },
     "output_type": "display_data"
    }
   ],
   "source": [
    "# displot for each attribute\n",
    "for col in cols:\n",
    "    sns.displot(wine[col])  \n",
    "plt.show()"
   ]
  },
  {
   "cell_type": "code",
   "execution_count": 8,
   "id": "7442de34",
   "metadata": {},
   "outputs": [
    {
     "data": {
      "image/png": "[encoded data removed]",
      "text/plain": [
       "<Figure size 720x3600 with 13 Axes>"
      ]
     },
     "metadata": {
      "needs_background": "light"
     },
     "output_type": "display_data"
    }
   ],
   "source": [
    "# boxplot for each attribute\n",
    "fig, ax = plt.subplots(nrows = len(cols), ncols = 1, figsize = (10,50))\n",
    "for i in range (len(cols)):\n",
    "    col = cols[i]\n",
    "    sns.boxplot(data = wine, x = wine[col], ax = ax[i])\n",
    "plt.show()"
   ]
  },
  {
   "cell_type": "markdown",
   "id": "ad8a0855",
   "metadata": {},
   "source": [
    "## MLPClassifier "
   ]
  },
  {
   "cell_type": "code",
   "execution_count": 9,
   "id": "a7adcd30",
   "metadata": {},
   "outputs": [],
   "source": [
    "from sklearn.preprocessing import RobustScaler\n",
    "from sklearn.model_selection import train_test_split\n",
    "from sklearn.neural_network import MLPClassifier\n",
    "from sklearn.metrics import accuracy_score, classification_report, confusion_matrix"
   ]
  },
  {
   "cell_type": "code",
   "execution_count": 10,
   "id": "b0151106",
   "metadata": {},
   "outputs": [],
   "source": [
    "X = wine.copy()\n",
    "y = X.pop('Class')"
   ]
  },
  {
   "cell_type": "code",
   "execution_count": 11,
   "id": "dcd38d2e",
   "metadata": {},
   "outputs": [
    {
     "data": {
      "text/html": [
       "<div>\n",
       "<style scoped>\n",
       "    .dataframe tbody tr th:only-of-type {\n",
       "        vertical-align: middle;\n",
       "    }\n",
       "\n",
       "    .dataframe tbody tr th {\n",
       "        vertical-align: top;\n",
       "    }\n",
       "\n",
       "    .dataframe thead th {\n",
       "        text-align: right;\n",
       "    }\n",
       "</style>\n",
       "<table border=\"1\" class=\"dataframe\">\n",
       "  <thead>\n",
       "    <tr style=\"text-align: right;\">\n",
       "      <th></th>\n",
       "      <th>Alcohol</th>\n",
       "      <th>Malic acid</th>\n",
       "      <th>Ash</th>\n",
       "      <th>Alcalinity of ash</th>\n",
       "      <th>Magnesium</th>\n",
       "      <th>Total phenols</th>\n",
       "      <th>Flavanoids</th>\n",
       "      <th>Nonflavanoid phenols</th>\n",
       "      <th>Proanthocyanins</th>\n",
       "      <th>Color intensity</th>\n",
       "      <th>Hue</th>\n",
       "      <th>OD280/OD315 of diluted wines</th>\n",
       "      <th>Proline</th>\n",
       "    </tr>\n",
       "  </thead>\n",
       "  <tbody>\n",
       "    <tr>\n",
       "      <th>0</th>\n",
       "      <td>14.23</td>\n",
       "      <td>1.71</td>\n",
       "      <td>2.43</td>\n",
       "      <td>15.6</td>\n",
       "      <td>127</td>\n",
       "      <td>2.80</td>\n",
       "      <td>3.06</td>\n",
       "      <td>0.28</td>\n",
       "      <td>2.29</td>\n",
       "      <td>5.64</td>\n",
       "      <td>1.04</td>\n",
       "      <td>3.92</td>\n",
       "      <td>1065</td>\n",
       "    </tr>\n",
       "    <tr>\n",
       "      <th>1</th>\n",
       "      <td>13.20</td>\n",
       "      <td>1.78</td>\n",
       "      <td>2.14</td>\n",
       "      <td>11.2</td>\n",
       "      <td>100</td>\n",
       "      <td>2.65</td>\n",
       "      <td>2.76</td>\n",
       "      <td>0.26</td>\n",
       "      <td>1.28</td>\n",
       "      <td>4.38</td>\n",
       "      <td>1.05</td>\n",
       "      <td>3.40</td>\n",
       "      <td>1050</td>\n",
       "    </tr>\n",
       "    <tr>\n",
       "      <th>2</th>\n",
       "      <td>13.16</td>\n",
       "      <td>2.36</td>\n",
       "      <td>2.67</td>\n",
       "      <td>18.6</td>\n",
       "      <td>101</td>\n",
       "      <td>2.80</td>\n",
       "      <td>3.24</td>\n",
       "      <td>0.30</td>\n",
       "      <td>2.81</td>\n",
       "      <td>5.68</td>\n",
       "      <td>1.03</td>\n",
       "      <td>3.17</td>\n",
       "      <td>1185</td>\n",
       "    </tr>\n",
       "    <tr>\n",
       "      <th>3</th>\n",
       "      <td>14.37</td>\n",
       "      <td>1.95</td>\n",
       "      <td>2.50</td>\n",
       "      <td>16.8</td>\n",
       "      <td>113</td>\n",
       "      <td>3.85</td>\n",
       "      <td>3.49</td>\n",
       "      <td>0.24</td>\n",
       "      <td>2.18</td>\n",
       "      <td>7.80</td>\n",
       "      <td>0.86</td>\n",
       "      <td>3.45</td>\n",
       "      <td>1480</td>\n",
       "    </tr>\n",
       "    <tr>\n",
       "      <th>4</th>\n",
       "      <td>13.24</td>\n",
       "      <td>2.59</td>\n",
       "      <td>2.87</td>\n",
       "      <td>21.0</td>\n",
       "      <td>118</td>\n",
       "      <td>2.80</td>\n",
       "      <td>2.69</td>\n",
       "      <td>0.39</td>\n",
       "      <td>1.82</td>\n",
       "      <td>4.32</td>\n",
       "      <td>1.04</td>\n",
       "      <td>2.93</td>\n",
       "      <td>735</td>\n",
       "    </tr>\n",
       "  </tbody>\n",
       "</table>\n",
       "</div>"
      ],
      "text/plain": [
       "   Alcohol  Malic acid   Ash  Alcalinity of ash  Magnesium  Total phenols  \\\n",
       "0    14.23        1.71  2.43               15.6        127           2.80   \n",
       "1    13.20        1.78  2.14               11.2        100           2.65   \n",
       "2    13.16        2.36  2.67               18.6        101           2.80   \n",
       "3    14.37        1.95  2.50               16.8        113           3.85   \n",
       "4    13.24        2.59  2.87               21.0        118           2.80   \n",
       "\n",
       "   Flavanoids  Nonflavanoid phenols  Proanthocyanins  Color intensity   Hue  \\\n",
       "0        3.06                  0.28             2.29             5.64  1.04   \n",
       "1        2.76                  0.26             1.28             4.38  1.05   \n",
       "2        3.24                  0.30             2.81             5.68  1.03   \n",
       "3        3.49                  0.24             2.18             7.80  0.86   \n",
       "4        2.69                  0.39             1.82             4.32  1.04   \n",
       "\n",
       "   OD280/OD315 of diluted wines  Proline   \n",
       "0                          3.92      1065  \n",
       "1                          3.40      1050  \n",
       "2                          3.17      1185  \n",
       "3                          3.45      1480  \n",
       "4                          2.93       735  "
      ]
     },
     "execution_count": 11,
     "metadata": {},
     "output_type": "execute_result"
    }
   ],
   "source": [
    "X.head()"
   ]
  },
  {
   "cell_type": "code",
   "execution_count": 12,
   "id": "665b860e",
   "metadata": {},
   "outputs": [
    {
     "data": {
      "text/plain": [
       "0    1\n",
       "1    1\n",
       "2    1\n",
       "3    1\n",
       "4    1\n",
       "Name: Class, dtype: int64"
      ]
     },
     "execution_count": 12,
     "metadata": {},
     "output_type": "execute_result"
    }
   ],
   "source": [
    "y.head()"
   ]
  },
  {
   "cell_type": "code",
   "execution_count": 13,
   "id": "ea6a5bac",
   "metadata": {},
   "outputs": [],
   "source": [
    "# RobustScaler is immune to outliers\n",
    "scaler = RobustScaler()\n",
    "X_scaled = scaler.fit_transform(X)"
   ]
  },
  {
   "cell_type": "code",
   "execution_count": 14,
   "id": "9105ff52",
   "metadata": {},
   "outputs": [],
   "source": [
    "X_train, X_test, y_train, y_test = train_test_split(X, y, test_size = 0.3, random_state = 42)"
   ]
  },
  {
   "cell_type": "code",
   "execution_count": 15,
   "id": "7078883d",
   "metadata": {},
   "outputs": [],
   "source": [
    "# Multi Layer Perceptron with 3 hidden layers of 13 nodes\n",
    "model = MLPClassifier(\n",
    "    hidden_layer_sizes = (13,13,13), \n",
    "    max_iter = 500,\n",
    "    random_state = 100\n",
    ")"
   ]
  },
  {
   "cell_type": "code",
   "execution_count": 16,
   "id": "794a3537",
   "metadata": {},
   "outputs": [
    {
     "data": {
      "text/plain": [
       "array([1, 1, 3, 1, 2, 1, 2, 3, 1, 3, 1, 3, 1, 2, 1, 2, 2, 2, 1, 2, 1, 2,\n",
       "       2, 3, 3, 3, 2, 2, 2, 1, 1, 2, 3, 1, 1, 1, 3, 3, 1, 3, 1, 2, 2, 2,\n",
       "       3, 1, 1, 2, 3, 1, 2, 1, 1, 3], dtype=int64)"
      ]
     },
     "execution_count": 16,
     "metadata": {},
     "output_type": "execute_result"
    }
   ],
   "source": [
    "model.fit(X_train, y_train)\n",
    "y_pred = model.predict(X_test)\n",
    "y_pred"
   ]
  },
  {
   "cell_type": "markdown",
   "id": "5483b044",
   "metadata": {},
   "source": [
    "## Performance Metrics"
   ]
  },
  {
   "cell_type": "code",
   "execution_count": 17,
   "id": "343724eb",
   "metadata": {},
   "outputs": [
    {
     "data": {
      "text/plain": [
       "0.9444444444444444"
      ]
     },
     "execution_count": 17,
     "metadata": {},
     "output_type": "execute_result"
    }
   ],
   "source": [
    "accuracy_score(y_test, y_pred)"
   ]
  },
  {
   "cell_type": "code",
   "execution_count": 18,
   "id": "3c974990",
   "metadata": {},
   "outputs": [
    {
     "data": {
      "text/plain": [
       "array([[19,  0,  0],\n",
       "       [ 3, 18,  0],\n",
       "       [ 0,  0, 14]], dtype=int64)"
      ]
     },
     "execution_count": 18,
     "metadata": {},
     "output_type": "execute_result"
    }
   ],
   "source": [
    "mat = confusion_matrix(y_test, y_pred)\n",
    "mat"
   ]
  },
  {
   "cell_type": "code",
   "execution_count": 19,
   "id": "a9fba5a6",
   "metadata": {},
   "outputs": [
    {
     "data": {
      "image/png": "[encoded data removed]",
      "text/plain": [
       "<Figure size 432x288 with 2 Axes>"
      ]
     },
     "metadata": {
      "needs_background": "light"
     },
     "output_type": "display_data"
    }
   ],
   "source": [
    "sns.heatmap(mat, annot = True)\n",
    "plt.show()"
   ]
  },
  {
   "cell_type": "markdown",
   "id": "5d6301e7",
   "metadata": {},
   "source": [
    "Only 3 instances among all the test cases have been misclassified.  \n",
    "Model is very good in performance"
   ]
  },
  {
   "cell_type": "code",
   "execution_count": 20,
   "id": "a5260702",
   "metadata": {},
   "outputs": [
    {
     "name": "stdout",
     "output_type": "stream",
     "text": [
      "              precision    recall  f1-score   support\n",
      "\n",
      "           1       0.86      1.00      0.93        19\n",
      "           2       1.00      0.86      0.92        21\n",
      "           3       1.00      1.00      1.00        14\n",
      "\n",
      "    accuracy                           0.94        54\n",
      "   macro avg       0.95      0.95      0.95        54\n",
      "weighted avg       0.95      0.94      0.94        54\n",
      "\n"
     ]
    }
   ],
   "source": [
    "print(classification_report(y_test, y_pred))"
   ]
  },
  {
   "cell_type": "markdown",
   "id": "44133e90",
   "metadata": {},
   "source": [
    "## Weights and Biases"
   ]
  },
  {
   "cell_type": "code",
   "execution_count": 21,
   "id": "3531cd9b",
   "metadata": {},
   "outputs": [
    {
     "data": {
      "text/plain": [
       "[array([[ 3.92242939e-02, -1.50108679e-01, -1.91931014e-02,\n",
       "          4.65666328e-02, -1.32001119e-01, -6.26842658e-02,\n",
       "          1.98585535e-03,  2.85312269e-01, -3.35303970e-01,\n",
       "          5.42890147e-02,  2.89982692e-01, -2.53988978e-02,\n",
       "         -2.89287268e-01],\n",
       "        [-3.49236408e-01, -1.66995735e-01,  1.22275189e-01,\n",
       "          3.28529384e-02, -3.93584480e-02,  3.46003405e-02,\n",
       "         -8.69093726e-03, -1.44368992e-01,  4.95954545e-01,\n",
       "          3.05648073e-01,  3.11407599e-01, -3.79332502e-02,\n",
       "         -8.23220110e-02],\n",
       "        [-4.77824274e-01, -1.59529447e-01,  1.72418826e-02,\n",
       "         -1.25059065e-01,  3.90706655e-05,  5.91969364e-05,\n",
       "         -7.12630642e-02, -1.39068838e-01, -4.32927504e-01,\n",
       "          3.57130060e-01,  1.97000058e-01, -9.69987948e-02,\n",
       "          3.86187740e-01],\n",
       "        [ 9.61824056e-02,  1.48363856e-01, -1.84046831e-02,\n",
       "          6.86418304e-06, -1.21686317e-01, -2.51246950e-02,\n",
       "         -1.34944448e-09,  1.94578945e-01, -2.02338550e-01,\n",
       "         -2.09154159e-01,  4.89689637e-01,  1.18747421e-01,\n",
       "          4.15051419e-01],\n",
       "        [-1.41687807e-01,  3.44135679e-02, -2.06956512e-02,\n",
       "         -1.33340163e-03, -3.68532278e-02, -1.68358961e-02,\n",
       "         -1.06202204e-01, -1.39749387e-02, -1.11638039e-01,\n",
       "          6.84304423e-02, -2.80300963e-02, -5.23698566e-02,\n",
       "          4.23726301e-01],\n",
       "        [ 3.94394941e-01,  3.41824397e-02, -1.94073655e-02,\n",
       "         -4.83426126e-04, -2.70455205e-02, -8.21213703e-03,\n",
       "         -1.45672969e-02, -2.64826318e-01,  3.93520447e-01,\n",
       "          4.03618580e-01, -4.93254782e-01,  9.69740250e-03,\n",
       "         -1.82664599e-01],\n",
       "        [-4.57068395e-01, -1.83344311e-02, -1.91121552e-02,\n",
       "         -8.04183645e-02,  9.60464637e-11,  1.29931373e-01,\n",
       "         -6.49238532e-05, -2.56400908e-02,  1.64264567e-01,\n",
       "          1.92578363e-01, -6.33630336e-01,  4.19231691e-04,\n",
       "         -3.44279031e-02],\n",
       "        [-1.63252085e-01, -1.72846447e-01, -2.39880994e-02,\n",
       "          1.73371804e-09,  1.28919314e-03, -1.27383040e-02,\n",
       "          5.96831281e-04, -3.69972101e-01,  2.10333662e-01,\n",
       "          2.70227849e-01,  5.35358415e-01,  9.74281691e-05,\n",
       "         -1.28357626e-01],\n",
       "        [ 1.59568924e-01,  2.24297796e-01, -1.84730439e-02,\n",
       "          1.23534934e-01,  1.19708732e-01, -4.15606111e-02,\n",
       "         -1.19916126e-01, -2.81433341e-01,  3.50236553e-01,\n",
       "          4.02188093e-01, -6.72798453e-01, -5.51713462e-04,\n",
       "          2.63331073e-02],\n",
       "        [-2.08185731e-01, -1.95923002e-02, -1.19875259e-02,\n",
       "         -3.30006149e-15,  7.01854769e-03,  7.05488461e-11,\n",
       "         -1.34212087e-01, -1.76322386e-01,  7.83070079e-02,\n",
       "         -1.02101585e-01,  4.73513025e-01,  4.04703022e-16,\n",
       "         -2.96989292e-02],\n",
       "        [-4.09728920e-01, -1.37028840e-01,  9.73282834e-02,\n",
       "         -1.17751725e-01, -1.09230370e-01, -7.14423248e-03,\n",
       "          7.28917087e-06,  4.85459016e-01,  4.37508649e-01,\n",
       "          4.48055509e-01, -7.59890963e-01,  1.58963698e-03,\n",
       "          2.33849199e-02],\n",
       "        [-3.48535397e-01,  3.12458193e-01, -4.15865370e-02,\n",
       "          1.34433331e-01,  7.59779419e-06, -3.47939483e-02,\n",
       "         -1.19096950e-04, -2.41023608e-01, -1.53899493e-01,\n",
       "          5.55158391e-02, -4.34226574e-01,  4.55924052e-12,\n",
       "         -2.10179995e-01],\n",
       "        [ 4.20319007e-02, -3.01532549e-02, -2.04262918e-02,\n",
       "         -2.57924212e-03, -2.57318412e-02, -4.83406575e-09,\n",
       "         -1.24813225e-12,  4.10946030e-01,  1.97088211e-01,\n",
       "          2.25167674e-01, -4.03004911e-03, -1.15961085e-03,\n",
       "          1.18502921e-01]]),\n",
       " array([[-1.54226756e-01, -2.50133204e-01, -4.82631915e-03,\n",
       "          5.21323553e-02,  1.95989632e-02,  1.52048721e-03,\n",
       "          3.06294383e-02, -1.89510101e-01, -4.17759706e-01,\n",
       "          1.83242295e-01,  1.10104871e-01,  1.05377254e-01,\n",
       "          4.66188613e-02],\n",
       "        [ 4.35769210e-02,  3.36592357e-02,  7.53563906e-02,\n",
       "         -4.34706310e-02, -7.89073062e-03, -7.79326021e-06,\n",
       "          4.23261571e-03, -2.62887852e-02,  5.27072698e-02,\n",
       "          1.59898661e-01, -9.09063850e-02, -4.54352419e-03,\n",
       "          2.31995425e-01],\n",
       "        [-1.11176830e-01, -7.45026706e-03,  1.04495983e-01,\n",
       "          3.24328384e-02, -4.60351782e-03,  3.09522246e-05,\n",
       "         -1.10207999e-06,  5.02559059e-03,  7.06746136e-02,\n",
       "         -4.18458973e-03, -1.33081585e-12, -2.75172545e-03,\n",
       "         -1.05506487e-02],\n",
       "        [-1.72200741e-09, -8.39235971e-02,  4.55397616e-04,\n",
       "          2.73047152e-02,  1.05960488e-01,  3.09883007e-03,\n",
       "          1.95796550e-12,  7.63474328e-12,  1.13442522e-01,\n",
       "         -2.46884776e-02, -1.42868936e-05,  1.28286764e-01,\n",
       "         -1.16556706e-01],\n",
       "        [ 4.92220562e-03, -1.18632987e-01, -2.61625797e-03,\n",
       "         -8.89601237e-02, -9.64331340e-02, -6.79414523e-02,\n",
       "         -4.04729590e-02,  2.96692418e-04, -2.89576254e-07,\n",
       "          4.05454800e-02, -1.62807758e-02, -3.21967871e-02,\n",
       "          6.37699159e-03],\n",
       "        [ 5.27927468e-02,  1.65117013e-07,  5.32289685e-03,\n",
       "          6.56853764e-05,  1.71402301e-07,  5.37901619e-02,\n",
       "          8.50783360e-02,  4.87519504e-02, -1.26907677e-02,\n",
       "          6.22395498e-02, -5.51148206e-07,  9.35160861e-03,\n",
       "         -1.28537721e-05],\n",
       "        [-3.19028249e-02,  5.53803240e-03, -1.60612810e-02,\n",
       "          4.95393838e-02,  3.77350856e-02,  5.84907291e-11,\n",
       "         -1.23335566e-04,  1.85365253e-05, -5.47874073e-02,\n",
       "          3.15691338e-02,  1.12893761e-01,  2.18681773e-02,\n",
       "         -1.64008347e-02],\n",
       "        [ 3.54697115e-01,  2.94550644e-01, -9.47616973e-02,\n",
       "         -1.86123764e-02,  1.01534319e-01, -5.48050391e-02,\n",
       "          2.56068597e-03,  5.00921773e-01, -2.21726495e-01,\n",
       "          2.25639587e-01, -1.05172185e-01, -1.77044622e-03,\n",
       "          4.40866172e-01],\n",
       "        [ 1.10887822e-01,  9.35788443e-02,  8.99592957e-02,\n",
       "         -3.54215746e-02, -4.38607458e-01, -3.21894652e-02,\n",
       "          1.06964427e-11,  3.27752616e-02,  2.73379475e-01,\n",
       "          3.13367745e-01, -2.41629496e-02, -3.64544539e-07,\n",
       "         -4.72712451e-02],\n",
       "        [-4.24697113e-01, -4.65851553e-01,  2.50558467e-02,\n",
       "         -8.46834995e-03,  2.27125694e-01, -4.60849636e-06,\n",
       "         -5.20235031e-02, -2.64542629e-01, -1.94580357e-01,\n",
       "          2.66028763e-01, -1.26780517e-01, -1.03583455e-01,\n",
       "          7.98323430e-02],\n",
       "        [ 3.72406276e-01,  3.45821068e-01,  2.49350192e-12,\n",
       "         -3.83367262e-04, -1.81325790e-01,  5.67299372e-10,\n",
       "         -2.57646899e-03, -6.57393180e-01, -9.67010238e-02,\n",
       "          1.06622593e-01,  2.92439879e-03,  2.75225788e-03,\n",
       "         -5.01563974e-01],\n",
       "        [ 5.78766832e-04, -9.15294307e-02,  5.99063005e-02,\n",
       "         -6.88899696e-02, -4.05624860e-02,  1.95374401e-11,\n",
       "          2.06998299e-02,  5.09844313e-02, -2.50054936e-02,\n",
       "         -8.71523581e-02,  2.47748829e-02,  1.75776520e-09,\n",
       "          2.39072447e-02],\n",
       "        [ 4.47002712e-01, -1.42213749e-02,  1.43603780e-09,\n",
       "          3.95358268e-05,  1.01190581e-01,  6.97159774e-13,\n",
       "         -3.95652267e-03,  5.73164736e-02,  3.92278277e-01,\n",
       "          4.35178825e-01, -6.11291269e-05,  2.81209927e-02,\n",
       "          1.26115176e-01]]),\n",
       " array([[ 2.22877952e-01,  4.04405261e-03,  4.63983972e-03,\n",
       "         -3.52425632e-04,  3.05573284e-01, -4.32224845e-01,\n",
       "          3.65465946e-01, -4.23198467e-02,  4.10043747e-02,\n",
       "         -2.31731280e-02,  4.98387267e-08,  1.75612961e-01,\n",
       "         -3.39415029e-02],\n",
       "        [-2.50183870e-01, -4.96484672e-02, -4.82594049e-01,\n",
       "          9.65171670e-02, -6.18479168e-02, -6.89123547e-02,\n",
       "         -8.64313526e-02, -1.94235513e-02,  1.90972448e-01,\n",
       "         -2.07478034e-01,  1.42138499e-03, -4.17225994e-01,\n",
       "          6.09358401e-06],\n",
       "        [-7.03451269e-02,  3.46063518e-09, -5.57881889e-12,\n",
       "         -5.23642617e-03,  1.51299140e-09, -1.10064735e-01,\n",
       "          3.96180594e-05, -1.34821580e-01,  9.39164978e-14,\n",
       "          8.26157979e-14, -9.65619796e-02,  1.02934587e-01,\n",
       "          8.61782962e-05],\n",
       "        [ 2.07269304e-03,  6.84827713e-10,  5.30335496e-03,\n",
       "         -3.56632435e-02,  8.04320813e-04,  9.78364855e-07,\n",
       "          1.05583496e-01,  2.74034798e-02,  1.02659056e-05,\n",
       "          1.36754674e-09,  1.11414556e-02,  3.30633882e-02,\n",
       "          8.94372381e-02],\n",
       "        [ 3.33790195e-01, -1.15571043e-01,  2.17514397e-01,\n",
       "          9.70843271e-12,  2.19078874e-01, -5.48344686e-02,\n",
       "          4.47448885e-02,  9.72310255e-02,  2.33610596e-02,\n",
       "         -3.45540921e-01,  2.78451750e-03, -4.25391444e-01,\n",
       "         -1.86298217e-04],\n",
       "        [ 3.17235550e-02,  3.29815389e-06, -4.81177917e-02,\n",
       "         -1.94494976e-03,  1.04124136e-01, -1.15298346e-01,\n",
       "          2.13712282e-02, -3.55381326e-02, -2.39357767e-02,\n",
       "          9.98013118e-04, -5.16685327e-02, -1.75774715e-04,\n",
       "         -2.57813508e-05],\n",
       "        [ 1.29046731e-03, -2.14909757e-12,  1.10247165e-11,\n",
       "          3.92682044e-11,  3.08342476e-02,  3.01406461e-02,\n",
       "         -4.99890467e-02,  1.30788744e-01, -9.23378473e-02,\n",
       "          1.32356447e-01, -6.17304488e-02, -9.58075806e-02,\n",
       "          5.27192702e-03],\n",
       "        [ 4.73390475e-01,  6.41454111e-03,  1.14355858e-01,\n",
       "         -5.66512819e-02, -1.88654125e-01, -3.44725597e-01,\n",
       "         -4.20283906e-01,  1.42623477e-01, -2.32117903e-02,\n",
       "         -8.20999826e-02, -1.95531063e-03,  2.76347852e-02,\n",
       "         -5.18989142e-02],\n",
       "        [-3.20422640e-01,  3.42559145e-02, -2.81074952e-01,\n",
       "         -8.14974269e-02, -1.15722091e-04,  3.88606741e-01,\n",
       "         -8.28435030e-02,  1.79227183e-02,  4.61057817e-01,\n",
       "         -4.75792094e-01, -6.96362115e-02,  2.02069172e-01,\n",
       "          6.90332783e-02],\n",
       "        [ 2.51120340e-02, -9.08659510e-02, -4.27084148e-01,\n",
       "         -7.06958335e-02, -1.71136012e-01,  3.47755862e-01,\n",
       "          3.97672926e-01, -1.06303262e-01,  3.10912714e-01,\n",
       "          2.11930281e-01,  3.24461120e-03,  3.77903421e-01,\n",
       "         -1.87115133e-02],\n",
       "        [-7.38108392e-12, -1.17861592e-03,  1.28081943e-03,\n",
       "         -7.20047795e-03,  2.00660479e-13, -4.36325858e-03,\n",
       "          2.66467203e-08, -4.39577901e-02,  1.05326272e-06,\n",
       "          7.02677253e-12, -5.96870066e-02, -1.66016912e-09,\n",
       "         -2.83901931e-02],\n",
       "        [ 1.94600040e-03,  1.31979013e-07, -1.82891857e-02,\n",
       "         -9.49900951e-12, -3.13456220e-03,  4.73830058e-02,\n",
       "         -2.75328676e-08, -7.39953057e-02,  7.49093638e-02,\n",
       "          5.17530364e-02, -6.64454003e-03, -1.16820836e-02,\n",
       "         -9.31635504e-02],\n",
       "        [-1.43565380e-01, -1.01906261e-01,  3.82582637e-01,\n",
       "          7.20169488e-03, -8.56679635e-03, -1.49612512e-01,\n",
       "         -3.54637991e-01, -1.85373063e-02, -2.45579404e-01,\n",
       "          4.07363654e-01, -7.50600551e-02, -5.40800228e-02,\n",
       "         -1.29578162e-01]]),\n",
       " array([[ 4.45829749e-01,  2.09599434e-01, -1.82739429e-01],\n",
       "        [ 9.32288369e-03, -1.09222388e-02,  2.47726038e-02],\n",
       "        [ 4.92463417e-01, -4.52976895e-01,  1.77056364e-01],\n",
       "        [-2.90177909e-03,  4.20083255e-02,  1.82196267e-01],\n",
       "        [-1.12834979e-01, -3.55099018e-01,  5.07321856e-02],\n",
       "        [-4.91289190e-01,  2.16135577e-01,  1.19425331e-01],\n",
       "        [-5.68686960e-01, -7.47574125e-02, -8.35034778e-02],\n",
       "        [-2.12452271e-01, -7.17011966e-03, -1.47388011e-03],\n",
       "        [-5.74591425e-01, -3.72043213e-01,  4.54866520e-01],\n",
       "        [-1.45319511e-01, -1.95535254e-01,  6.59462986e-02],\n",
       "        [ 9.73154155e-11,  1.26887606e-01, -2.52015595e-02],\n",
       "        [-2.13052939e-01, -1.95632887e-01, -5.24369821e-01],\n",
       "        [-1.65676918e-02,  2.57334330e-02, -4.95245127e-03]])]"
      ]
     },
     "execution_count": 21,
     "metadata": {},
     "output_type": "execute_result"
    }
   ],
   "source": [
    "# model weights\n",
    "model.coefs_"
   ]
  },
  {
   "cell_type": "code",
   "execution_count": 22,
   "id": "2c5a04f6",
   "metadata": {},
   "outputs": [
    {
     "data": {
      "text/plain": [
       "[array([ 0.20693408, -0.38152979, -0.37167795, -0.04223631, -0.32691486,\n",
       "         0.44353119,  0.32437072, -0.01777512, -0.25356964, -0.36502124,\n",
       "         0.55760821,  0.19892096,  0.36907971]),\n",
       " array([-0.07970676, -0.42785794, -0.45303732, -0.36235616, -0.28976154,\n",
       "         0.31611484, -0.20609279,  0.25271089, -0.01209849, -0.33633418,\n",
       "         0.26712888,  0.40480249,  0.37419165]),\n",
       " array([ 0.07210735,  0.07360428, -0.3886072 ,  0.16546225, -0.35619965,\n",
       "        -0.00595989, -0.071445  , -0.25941763, -0.37850512, -0.423724  ,\n",
       "        -0.43005158, -0.00714636,  0.26008532]),\n",
       " array([-0.32222048,  0.71629577,  0.56506655])]"
      ]
     },
     "execution_count": 22,
     "metadata": {},
     "output_type": "execute_result"
    }
   ],
   "source": [
    "# model biases\n",
    "model.intercepts_"
   ]
  }
 ],
 "metadata": {
  "kernelspec": {
   "display_name": "Python 3 (ipykernel)",
   "language": "python",
   "name": "python3"
  },
  "language_info": {
   "codemirror_mode": {
    "name": "ipython",
    "version": 3
   },
   "file_extension": ".py",
   "mimetype": "text/x-python",
   "name": "python",
   "nbconvert_exporter": "python",
   "pygments_lexer": "ipython3",
   "version": "3.10.4"
  }
 },
 "nbformat": 4,
 "nbformat_minor": 5
}
