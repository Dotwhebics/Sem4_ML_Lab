{
 "cells": [
  {
   "cell_type": "code",
   "execution_count": 1,
   "id": "a6883c39",
   "metadata": {},
   "outputs": [],
   "source": [
    "import pandas as pd\n",
    "import numpy as np\n",
    "import matplotlib.pyplot as plt"
   ]
  },
  {
   "cell_type": "markdown",
   "id": "60bb517f",
   "metadata": {},
   "source": [
    "## Linear Regression with one feature"
   ]
  },
  {
   "cell_type": "code",
   "execution_count": 2,
   "id": "7b24ccc2",
   "metadata": {},
   "outputs": [
    {
     "data": {
      "text/html": [
       "<div>\n",
       "<style scoped>\n",
       "    .dataframe tbody tr th:only-of-type {\n",
       "        vertical-align: middle;\n",
       "    }\n",
       "\n",
       "    .dataframe tbody tr th {\n",
       "        vertical-align: top;\n",
       "    }\n",
       "\n",
       "    .dataframe thead th {\n",
       "        text-align: right;\n",
       "    }\n",
       "</style>\n",
       "<table border=\"1\" class=\"dataframe\">\n",
       "  <thead>\n",
       "    <tr style=\"text-align: right;\">\n",
       "      <th></th>\n",
       "      <th>model</th>\n",
       "      <th>mpg</th>\n",
       "      <th>cyl</th>\n",
       "      <th>disp</th>\n",
       "      <th>hp</th>\n",
       "      <th>drat</th>\n",
       "      <th>wt</th>\n",
       "      <th>qsec</th>\n",
       "      <th>vs</th>\n",
       "      <th>am</th>\n",
       "      <th>gear</th>\n",
       "      <th>carb</th>\n",
       "    </tr>\n",
       "  </thead>\n",
       "  <tbody>\n",
       "    <tr>\n",
       "      <th>0</th>\n",
       "      <td>Mazda RX4</td>\n",
       "      <td>21.0</td>\n",
       "      <td>6</td>\n",
       "      <td>160.0</td>\n",
       "      <td>110</td>\n",
       "      <td>3.90</td>\n",
       "      <td>2.620</td>\n",
       "      <td>16.46</td>\n",
       "      <td>0</td>\n",
       "      <td>1</td>\n",
       "      <td>4</td>\n",
       "      <td>4</td>\n",
       "    </tr>\n",
       "    <tr>\n",
       "      <th>1</th>\n",
       "      <td>Mazda RX4 Wag</td>\n",
       "      <td>21.0</td>\n",
       "      <td>6</td>\n",
       "      <td>160.0</td>\n",
       "      <td>110</td>\n",
       "      <td>3.90</td>\n",
       "      <td>2.875</td>\n",
       "      <td>17.02</td>\n",
       "      <td>0</td>\n",
       "      <td>1</td>\n",
       "      <td>4</td>\n",
       "      <td>4</td>\n",
       "    </tr>\n",
       "    <tr>\n",
       "      <th>2</th>\n",
       "      <td>Datsun 710</td>\n",
       "      <td>22.8</td>\n",
       "      <td>4</td>\n",
       "      <td>108.0</td>\n",
       "      <td>93</td>\n",
       "      <td>3.85</td>\n",
       "      <td>2.320</td>\n",
       "      <td>18.61</td>\n",
       "      <td>1</td>\n",
       "      <td>1</td>\n",
       "      <td>4</td>\n",
       "      <td>1</td>\n",
       "    </tr>\n",
       "    <tr>\n",
       "      <th>3</th>\n",
       "      <td>Hornet 4 Drive</td>\n",
       "      <td>21.4</td>\n",
       "      <td>6</td>\n",
       "      <td>258.0</td>\n",
       "      <td>110</td>\n",
       "      <td>3.08</td>\n",
       "      <td>3.215</td>\n",
       "      <td>19.44</td>\n",
       "      <td>1</td>\n",
       "      <td>0</td>\n",
       "      <td>3</td>\n",
       "      <td>1</td>\n",
       "    </tr>\n",
       "    <tr>\n",
       "      <th>4</th>\n",
       "      <td>Hornet Sportabout</td>\n",
       "      <td>18.7</td>\n",
       "      <td>8</td>\n",
       "      <td>360.0</td>\n",
       "      <td>175</td>\n",
       "      <td>3.15</td>\n",
       "      <td>3.440</td>\n",
       "      <td>17.02</td>\n",
       "      <td>0</td>\n",
       "      <td>0</td>\n",
       "      <td>3</td>\n",
       "      <td>2</td>\n",
       "    </tr>\n",
       "  </tbody>\n",
       "</table>\n",
       "</div>"
      ],
      "text/plain": [
       "               model   mpg  cyl   disp   hp  drat     wt   qsec  vs  am  gear  \\\n",
       "0          Mazda RX4  21.0    6  160.0  110  3.90  2.620  16.46   0   1     4   \n",
       "1      Mazda RX4 Wag  21.0    6  160.0  110  3.90  2.875  17.02   0   1     4   \n",
       "2         Datsun 710  22.8    4  108.0   93  3.85  2.320  18.61   1   1     4   \n",
       "3     Hornet 4 Drive  21.4    6  258.0  110  3.08  3.215  19.44   1   0     3   \n",
       "4  Hornet Sportabout  18.7    8  360.0  175  3.15  3.440  17.02   0   0     3   \n",
       "\n",
       "   carb  \n",
       "0     4  \n",
       "1     4  \n",
       "2     1  \n",
       "3     1  \n",
       "4     2  "
      ]
     },
     "execution_count": 2,
     "metadata": {},
     "output_type": "execute_result"
    }
   ],
   "source": [
    "mtcars = pd.read_csv('mtcars.csv')\n",
    "mtcars.head()"
   ]
  },
  {
   "cell_type": "code",
   "execution_count": 3,
   "id": "ac088585",
   "metadata": {},
   "outputs": [
    {
     "data": {
      "text/plain": [
       "model    False\n",
       "mpg      False\n",
       "cyl      False\n",
       "disp     False\n",
       "hp       False\n",
       "drat     False\n",
       "wt       False\n",
       "qsec     False\n",
       "vs       False\n",
       "am       False\n",
       "gear     False\n",
       "carb     False\n",
       "dtype: bool"
      ]
     },
     "execution_count": 3,
     "metadata": {},
     "output_type": "execute_result"
    }
   ],
   "source": [
    "mtcars.isna().any()"
   ]
  },
  {
   "cell_type": "markdown",
   "id": "544e1af2",
   "metadata": {},
   "source": [
    "## 1. Define the gradient descent function"
   ]
  },
  {
   "cell_type": "code",
   "execution_count": 4,
   "id": "684e44c4",
   "metadata": {},
   "outputs": [],
   "source": [
    "def myFnLinReg(X, Y):\n",
    "    lr = 0.01\n",
    "    iterations = 1000\n",
    "    m = X.shape[0]\n",
    "    teta0 = 0\n",
    "    teta1 = 0\n",
    "    \n",
    "    for i in range(iterations):\n",
    "        Y_pred = teta0 + teta1 * X\n",
    "        d_teta0 = (2 / m) * np.sum(Y_pred - Y)\n",
    "        d_teta1 = (2 / m) * np.sum(np.dot(X.T, Y_pred - Y))\n",
    "        teta0 = teta0 - lr * d_teta0\n",
    "        teta1 = teta1 - lr * d_teta1\n",
    "        \n",
    "    return teta0, teta1"
   ]
  },
  {
   "cell_type": "markdown",
   "id": "d714a4eb",
   "metadata": {},
   "source": [
    "## 2. 80-20 split of train and test data"
   ]
  },
  {
   "cell_type": "code",
   "execution_count": 5,
   "id": "6f444f2d",
   "metadata": {},
   "outputs": [
    {
     "data": {
      "text/plain": [
       "(32, 1)"
      ]
     },
     "execution_count": 5,
     "metadata": {},
     "output_type": "execute_result"
    }
   ],
   "source": [
    "X = np.array(mtcars['wt']).reshape(-1,1)\n",
    "X_train = X[ : 25]\n",
    "X_test = X[25 : ]\n",
    "X.shape"
   ]
  },
  {
   "cell_type": "code",
   "execution_count": 6,
   "id": "0641c7b5",
   "metadata": {},
   "outputs": [
    {
     "data": {
      "text/plain": [
       "(32, 1)"
      ]
     },
     "execution_count": 6,
     "metadata": {},
     "output_type": "execute_result"
    }
   ],
   "source": [
    "Y = np.array(mtcars['mpg']).reshape(-1,1)\n",
    "Y_train = Y[ : 25]\n",
    "Y_test = Y[25 : ]\n",
    "Y.shape"
   ]
  },
  {
   "cell_type": "code",
   "execution_count": 7,
   "id": "c6fc101f",
   "metadata": {},
   "outputs": [
    {
     "data": {
      "image/png": "[encoded data removed]",
      "text/plain": [
       "<Figure size 432x288 with 1 Axes>"
      ]
     },
     "metadata": {
      "needs_background": "light"
     },
     "output_type": "display_data"
    }
   ],
   "source": [
    "plt.scatter(X,Y)\n",
    "plt.title('Visualisation of Data Points')\n",
    "plt.xlabel('weight (x1000 lb)')\n",
    "plt.ylabel('mpg')\n",
    "plt.show()"
   ]
  },
  {
   "cell_type": "code",
   "execution_count": 8,
   "id": "eb7e6e04",
   "metadata": {},
   "outputs": [],
   "source": [
    "teta0, teta1 = myFnLinReg(X_train,Y_train)"
   ]
  },
  {
   "cell_type": "markdown",
   "id": "4906f851",
   "metadata": {},
   "source": [
    "## 3. mpg for car wt 5.5"
   ]
  },
  {
   "cell_type": "code",
   "execution_count": 9,
   "id": "67600b72",
   "metadata": {},
   "outputs": [
    {
     "data": {
      "text/plain": [
       "13.088104751004012"
      ]
     },
     "execution_count": 9,
     "metadata": {},
     "output_type": "execute_result"
    }
   ],
   "source": [
    "teta0 + teta1 * 5.5"
   ]
  },
  {
   "cell_type": "markdown",
   "id": "352f3648",
   "metadata": {},
   "source": [
    "As per the trained model, the car with 5500 lb shall give a mileage of 13.088 mpg"
   ]
  },
  {
   "cell_type": "markdown",
   "id": "b59bd0b2",
   "metadata": {},
   "source": [
    "## 4. Accuracy measures"
   ]
  },
  {
   "cell_type": "markdown",
   "id": "b0ba4e2d",
   "metadata": {},
   "source": [
    "### R^2 measure"
   ]
  },
  {
   "cell_type": "code",
   "execution_count": 10,
   "id": "242baefb",
   "metadata": {},
   "outputs": [
    {
     "data": {
      "text/plain": [
       "-0.8676593765172281"
      ]
     },
     "execution_count": 10,
     "metadata": {},
     "output_type": "execute_result"
    }
   ],
   "source": [
    "# Correlation coefficient r\n",
    "mtcars['wt'].corr(mtcars['mpg'])\n",
    "# negative coerraltion as expected from scatter plot"
   ]
  },
  {
   "cell_type": "code",
   "execution_count": 11,
   "id": "c7a94231",
   "metadata": {},
   "outputs": [
    {
     "data": {
      "text/plain": [
       "0.752832793658265"
      ]
     },
     "execution_count": 11,
     "metadata": {},
     "output_type": "execute_result"
    }
   ],
   "source": [
    "# r^2 value\n",
    "np.square(mtcars['wt'].corr(mtcars['mpg']))"
   ]
  },
  {
   "cell_type": "markdown",
   "id": "57f17da8",
   "metadata": {},
   "source": [
    "### RMSE measure"
   ]
  },
  {
   "cell_type": "code",
   "execution_count": 12,
   "id": "8ce0edb3",
   "metadata": {},
   "outputs": [
    {
     "data": {
      "text/plain": [
       "array([[22.89214643],\n",
       "       [22.32837966],\n",
       "       [24.05268095],\n",
       "       [19.49579538],\n",
       "       [20.59582811],\n",
       "       [18.39576266],\n",
       "       [20.56832729]])"
      ]
     },
     "execution_count": 12,
     "metadata": {},
     "output_type": "execute_result"
    }
   ],
   "source": [
    "Y_pred = teta0 + teta1 * X_test\n",
    "Y_pred"
   ]
  },
  {
   "cell_type": "code",
   "execution_count": 13,
   "id": "95a3b5f2",
   "metadata": {},
   "outputs": [
    {
     "data": {
      "text/plain": [
       "3.7774277563365164"
      ]
     },
     "execution_count": 13,
     "metadata": {},
     "output_type": "execute_result"
    }
   ],
   "source": [
    "MSE = (1/ X_test.shape[0]) * np.sum(np.square(Y_pred - Y_test))\n",
    "RMSE = np.sqrt(MSE)\n",
    "RMSE"
   ]
  },
  {
   "cell_type": "markdown",
   "id": "55081bd7",
   "metadata": {},
   "source": [
    "Given the magnitudes of mpg, the RMSE is good. The Linear Model is satisfactory"
   ]
  },
  {
   "cell_type": "markdown",
   "id": "b8151a3a",
   "metadata": {},
   "source": [
    "## 5. Stochastic and Mini batch gradient descents"
   ]
  },
  {
   "cell_type": "code",
   "execution_count": 14,
   "id": "99016134",
   "metadata": {},
   "outputs": [],
   "source": [
    "def miniBatchGD(stacked):\n",
    "    lr = 0.01\n",
    "    iterations = 1000\n",
    "    m = stacked.shape[0]\n",
    "    batch_size = 5\n",
    "    teta0 = 0\n",
    "    teta1 = 0\n",
    "    batches = []\n",
    "    cost_list = []\n",
    "    \n",
    "    # make batches\n",
    "    for i in range(batch_size):\n",
    "        batch = stacked[i * batch_size : (i+1) * batch_size, : ]\n",
    "        batches.append(batch)\n",
    "        \n",
    "    # gradient descent\n",
    "    for i in range(iterations):\n",
    "        X = np.array(batches[i % 5][ : , 0]).reshape(-1, 1)\n",
    "        Y = np.array(batches[i % 5][ : , 1]).reshape(-1, 1)\n",
    "        Y_pred = teta0 + teta1 * X\n",
    "        cost = (1 / (2 * batch_size)) * np.sum(np.square(Y_pred - Y))\n",
    "        d_teta0 = (2 / batch_size) * np.sum(Y_pred - Y)\n",
    "        d_teta1 = (2 / batch_size) * np.sum(np.dot(X.T, Y_pred - Y))\n",
    "        teta0 = teta0 - lr * d_teta0\n",
    "        teta1 = teta1 - lr * d_teta1\n",
    "        cost_list.append(cost)\n",
    "    \n",
    "    return teta0, teta1, cost_list"
   ]
  },
  {
   "cell_type": "code",
   "execution_count": 15,
   "id": "0f13e0f9",
   "metadata": {},
   "outputs": [],
   "source": [
    "def stochasticGD(X, Y):\n",
    "    lr = 0.01\n",
    "    iterations = 1000\n",
    "    m = X.shape[0]\n",
    "    teta0 = 0\n",
    "    teta1 = 0\n",
    "    cost_list = []\n",
    "    \n",
    "    for i in range(iterations):\n",
    "        index = np.random.randint(0, m)\n",
    "        x = X[index]\n",
    "        y = Y[index]\n",
    "        y_pred = teta0 + teta1 * x\n",
    "        cost = (1 / (2 * m)) * np.square(y_pred - y)\n",
    "        d_teta0 = (2 / m) * (y_pred - y)\n",
    "        d_teta1 = (2 / m ) * (y_pred - y) * x\n",
    "        teta0 = teta0 - lr * d_teta0\n",
    "        teta1 = teta1 - lr * d_teta1\n",
    "        cost_list.append(cost)\n",
    "        \n",
    "    return teta0, teta1, cost_list"
   ]
  },
  {
   "cell_type": "markdown",
   "id": "0f704ed8",
   "metadata": {},
   "source": [
    "### Stochastic Gradient Descent"
   ]
  },
  {
   "cell_type": "code",
   "execution_count": 16,
   "id": "2de1a895",
   "metadata": {},
   "outputs": [],
   "source": [
    "teta0, teta1, cost_list = stochasticGD(X_train, Y_train)"
   ]
  },
  {
   "cell_type": "code",
   "execution_count": 17,
   "id": "9c7ab519",
   "metadata": {},
   "outputs": [
    {
     "data": {
      "image/png": "[encoded data removed]",
      "text/plain": [
       "<Figure size 432x288 with 1 Axes>"
      ]
     },
     "metadata": {
      "needs_background": "light"
     },
     "output_type": "display_data"
    }
   ],
   "source": [
    "plt.plot(cost_list)\n",
    "plt.title('Variation in Cost')\n",
    "plt.xlabel('Iterations')\n",
    "plt.ylabel('Cost')\n",
    "plt.show()"
   ]
  },
  {
   "cell_type": "markdown",
   "id": "d792e6a5",
   "metadata": {},
   "source": [
    "### Mini-batch Gradient Descent"
   ]
  },
  {
   "cell_type": "code",
   "execution_count": 18,
   "id": "88878ce4",
   "metadata": {},
   "outputs": [],
   "source": [
    "stacked = np.hstack((X_train, Y_train)) # stacking both input and output to be divided into batches"
   ]
  },
  {
   "cell_type": "code",
   "execution_count": 19,
   "id": "104d1083",
   "metadata": {},
   "outputs": [],
   "source": [
    "teta0, teta1, cost_list = miniBatchGD(stacked)"
   ]
  },
  {
   "cell_type": "code",
   "execution_count": 20,
   "id": "cab29fc5",
   "metadata": {},
   "outputs": [
    {
     "data": {
      "image/png": "[encoded data removed]",
      "text/plain": [
       "<Figure size 432x288 with 1 Axes>"
      ]
     },
     "metadata": {
      "needs_background": "light"
     },
     "output_type": "display_data"
    }
   ],
   "source": [
    "plt.plot(cost_list)\n",
    "plt.title('Variations in Cost')\n",
    "plt.xlabel('Iterations')\n",
    "plt.ylabel('Cost')\n",
    "plt.show()"
   ]
  }
 ],
 "metadata": {
  "kernelspec": {
   "display_name": "Python 3 (ipykernel)",
   "language": "python",
   "name": "python3"
  },
  "language_info": {
   "codemirror_mode": {
    "name": "ipython",
    "version": 3
   },
   "file_extension": ".py",
   "mimetype": "text/x-python",
   "name": "python",
   "nbconvert_exporter": "python",
   "pygments_lexer": "ipython3",
   "version": "3.10.4"
  }
 },
 "nbformat": 4,
 "nbformat_minor": 5
}
